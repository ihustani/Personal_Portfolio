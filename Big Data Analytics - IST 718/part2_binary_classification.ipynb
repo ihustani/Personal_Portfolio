{
 "cells": [
  {
   "cell_type": "markdown",
   "metadata": {},
   "source": [
    "# IST 718: Big Data Analytics\n",
    "\n",
    "- Professor: Daniel Acuna <deacuna@syr.edu>\n",
    "\n",
    "## General instructions:\n",
    "\n",
    "- You are welcome to discuss the problems with your classmates but __you are not allowed to copy any part of your answers either from your classmates or from the internet__\n",
    "- You can put the homework files anywhere you want in your http://notebook.acuna.io workspace but _do not change_ the file names. The TAs and the professor use these names to grade your homework.\n",
    "- Remove or comment out code that contains `raise NotImplementedError`. This is mainly to make the `assert` statement fail if nothing is submitted.\n",
    "- The tests shown in some cells (i.e., `assert` and `np.testing.` statements) are used to grade your answers. **However, the professor and TAs will use __additional__ test for your answer. Think about cases where your code should run even if it passess all the tests you see.**\n",
    "- Before downloading and submitting your work through Blackboard, remember to save and press `Validate` (or go to \n",
    "`Kernel`$\\rightarrow$`Restart and Run All`). \n",
    "- Good luck!"
   ]
  },
  {
   "cell_type": "code",
   "execution_count": 1,
   "metadata": {},
   "outputs": [],
   "source": [
    "# Load the packages needed for this part\n",
    "# create spark and sparkcontext objects\n",
    "from pyspark.sql import SparkSession\n",
    "import numpy as np\n",
    "\n",
    "spark = SparkSession.builder.getOrCreate()\n",
    "sc = spark.sparkContext\n",
    "\n",
    "import pyspark\n",
    "from pyspark.ml import feature, regression, Pipeline, classification, pipeline, evaluation\n",
    "from pyspark.sql import functions as fn, Row\n",
    "from pyspark import sql\n",
    "\n",
    "import matplotlib.pyplot as plt\n",
    "import pandas as pd"
   ]
  },
  {
   "cell_type": "markdown",
   "metadata": {},
   "source": [
    "# Part 2"
   ]
  },
  {
   "cell_type": "markdown",
   "metadata": {},
   "source": [
    "In this section, you are going to develop a SMS spam detector based on logistic regression. This is the same idea behind sentiment analysis, but instead of predicting positive sentiment vs negative sentiment, you are going to predict whether a SMS text is spam or not.\n",
    "\n",
    "The dataset will be in `sms_spam_df`"
   ]
  },
  {
   "cell_type": "code",
   "execution_count": 2,
   "metadata": {},
   "outputs": [
    {
     "name": "stdout",
     "output_type": "stream",
     "text": [
      "+----+--------------------+\n",
      "|type|                text|\n",
      "+----+--------------------+\n",
      "| ham|Go until jurong p...|\n",
      "| ham|Ok lar... Joking ...|\n",
      "|spam|Free entry in 2 a...|\n",
      "| ham|U dun say so earl...|\n",
      "| ham|Nah I don't think...|\n",
      "|spam|FreeMsg Hey there...|\n",
      "| ham|Even my brother i...|\n",
      "| ham|As per your reque...|\n",
      "|spam|WINNER!! As a val...|\n",
      "|spam|Had your mobile 1...|\n",
      "| ham|I'm gonna be home...|\n",
      "|spam|SIX chances to wi...|\n",
      "|spam|URGENT! You have ...|\n",
      "| ham|I've been searchi...|\n",
      "| ham|I HAVE A DATE ON ...|\n",
      "|spam|XXXMobileMovieClu...|\n",
      "| ham|Oh k...i'm watchi...|\n",
      "| ham|Eh u remember how...|\n",
      "| ham|Fine if that's th...|\n",
      "|spam|England v Macedon...|\n",
      "+----+--------------------+\n",
      "only showing top 20 rows\n",
      "\n"
     ]
    }
   ],
   "source": [
    "sms_spam_df = spark.read.csv('sms_spam.csv', header=True, inferSchema=True)\n",
    "sms_spam_df.show()"
   ]
  },
  {
   "cell_type": "markdown",
   "metadata": {},
   "source": [
    "# Question 2.1\n",
    "\n",
    "Encode the `type` column to be 1 for `spam` and 0 for `ham` and store the result in `sms_spam2_df`"
   ]
  },
  {
   "cell_type": "code",
   "execution_count": 3,
   "metadata": {
    "deletable": false,
    "nbgrader": {
     "checksum": "ede01a8c8ef80d25d4fa8d9132b6f9c0",
     "grade": false,
     "grade_id": "cell-79e2472845514523",
     "locked": false,
     "schema_version": 1,
     "solution": true
    }
   },
   "outputs": [],
   "source": [
    "# create sms_spam2_df below\n",
    "sms_spam2_df = sms_spam_df.select(fn.when(fn.col('type') == 'spam', 1).otherwise(0).alias('type'), fn.col('text')) # Created sms_spam2_df with new 'type' column assigning 1 to values that equal 'spam' and 0 to all other values"
   ]
  },
  {
   "cell_type": "code",
   "execution_count": 4,
   "metadata": {},
   "outputs": [
    {
     "name": "stdout",
     "output_type": "stream",
     "text": [
      "+----+--------------------+\n",
      "|type|                text|\n",
      "+----+--------------------+\n",
      "|   0|Go until jurong p...|\n",
      "|   0|Ok lar... Joking ...|\n",
      "|   1|Free entry in 2 a...|\n",
      "|   0|U dun say so earl...|\n",
      "|   0|Nah I don't think...|\n",
      "|   1|FreeMsg Hey there...|\n",
      "|   0|Even my brother i...|\n",
      "|   0|As per your reque...|\n",
      "|   1|WINNER!! As a val...|\n",
      "|   1|Had your mobile 1...|\n",
      "|   0|I'm gonna be home...|\n",
      "|   1|SIX chances to wi...|\n",
      "|   1|URGENT! You have ...|\n",
      "|   0|I've been searchi...|\n",
      "|   0|I HAVE A DATE ON ...|\n",
      "|   1|XXXMobileMovieClu...|\n",
      "|   0|Oh k...i'm watchi...|\n",
      "|   0|Eh u remember how...|\n",
      "|   0|Fine if that's th...|\n",
      "|   1|England v Macedon...|\n",
      "+----+--------------------+\n",
      "only showing top 20 rows\n",
      "\n"
     ]
    }
   ],
   "source": [
    "# check here\n",
    "sms_spam2_df.show() # Viewed resulting dataframe"
   ]
  },
  {
   "cell_type": "code",
   "execution_count": 5,
   "metadata": {
    "deletable": false,
    "editable": false,
    "nbgrader": {
     "checksum": "3c39d9b0191d5b096f133b45d5f38f67",
     "grade": true,
     "grade_id": "cell-c6048eb3c38d3030",
     "locked": true,
     "points": 5,
     "schema_version": 1,
     "solution": false
    }
   },
   "outputs": [],
   "source": [
    "# (5 pts)\n",
    "np.testing.assert_array_equal(\n",
    "    sms_spam2_df.groupBy('type').count().orderBy('type').rdd.map(lambda x: x['count']).collect(),\n",
    "    [4827, 747]\n",
    ")"
   ]
  },
  {
   "cell_type": "markdown",
   "metadata": {},
   "source": [
    "# Question 2.2: tfidf feature engineering\n",
    "Create a pipeline that combines a `Tokenizer`, `CounterVectorizer`, and a `IDF` estimator to compute the tfidf vectors of each SMS. Fit this pipeline and assign the pipeline transformer to a variable `tfidf_pipeline`. The `Tokenizer` step should create a column `words`, the `CounterVectorizer` step should create a column `tf`, and the `IDF` step should create a column `tfidf`."
   ]
  },
  {
   "cell_type": "code",
   "execution_count": 6,
   "metadata": {
    "deletable": false,
    "nbgrader": {
     "checksum": "521084e2063144fa97a14bef1e965fca",
     "grade": false,
     "grade_id": "cell-ab24110e63d19470",
     "locked": false,
     "schema_version": 1,
     "solution": true
    }
   },
   "outputs": [],
   "source": [
    "# create a Pipeline transformer and name it tfidf_pipeline\n",
    "pipe = Pipeline(stages=[ # Created new pipeline with:\n",
    "    feature.Tokenizer().setInputCol('text').setOutputCol('words'), # Tokenizer, accepting 'text' column as input and outputting 'words' column\n",
    "    feature.CountVectorizer().setInputCol('words').setOutputCol('tf'), # CountVectorizer, accepting 'words' column as input and outputting 'tf' column\n",
    "    feature.IDF().setInputCol('tf').setOutputCol('tfidf')]) # IDF, accepting 'tf' column as input and outputting 'tfidf' column\n",
    "tfidf_pipeline = pipe.fit(sms_spam2_df) # Fit pipeline to sms_spam2_df data as tfidf_pipeline"
   ]
  },
  {
   "cell_type": "code",
   "execution_count": 7,
   "metadata": {},
   "outputs": [
    {
     "name": "stdout",
     "output_type": "stream",
     "text": [
      "+----+--------------------+--------------------+--------------------+--------------------+\n",
      "|type|                text|               words|                  tf|               tfidf|\n",
      "+----+--------------------+--------------------+--------------------+--------------------+\n",
      "|   0|Go until jurong p...|[go, until, juron...|(13525,[8,42,51,6...|(13525,[8,42,51,6...|\n",
      "|   0|Ok lar... Joking ...|[ok, lar..., joki...|(13525,[5,74,404,...|(13525,[5,74,404,...|\n",
      "|   1|Free entry in 2 a...|[free, entry, in,...|(13525,[0,3,8,20,...|(13525,[0,3,8,20,...|\n",
      "|   0|U dun say so earl...|[u, dun, say, so,...|(13525,[5,22,60,1...|(13525,[5,22,60,1...|\n",
      "|   0|Nah I don't think...|[nah, i, don't, t...|(13525,[0,1,66,86...|(13525,[0,1,66,86...|\n",
      "|   1|FreeMsg Hey there...|[freemsg, hey, th...|(13525,[0,2,6,10,...|(13525,[0,2,6,10,...|\n",
      "|   0|Even my brother i...|[even, my, brothe...|(13525,[0,7,9,13,...|(13525,[0,7,9,13,...|\n",
      "|   0|As per your reque...|[as, per, your, r...|(13525,[0,10,11,4...|(13525,[0,10,11,4...|\n",
      "|   1|WINNER!! As a val...|[winner!!, as, a,...|(13525,[0,2,3,14,...|(13525,[0,2,3,14,...|\n",
      "|   1|Had your mobile 1...|[had, your, mobil...|(13525,[0,4,5,10,...|(13525,[0,4,5,10,...|\n",
      "|   0|I'm gonna be home...|[i'm, gonna, be, ...|(13525,[0,1,6,29,...|(13525,[0,1,6,29,...|\n",
      "|   1|SIX chances to wi...|[six, chances, to...|(13525,[0,6,40,48...|(13525,[0,6,40,48...|\n",
      "|   1|URGENT! You have ...|[urgent!, you, ha...|(13525,[0,2,3,4,8...|(13525,[0,2,3,4,8...|\n",
      "|   0|I've been searchi...|[i've, been, sear...|(13525,[0,1,2,3,4...|(13525,[0,1,2,3,4...|\n",
      "|   0|I HAVE A DATE ON ...|[i, have, a, date...|(13525,[1,3,14,16...|(13525,[1,3,14,16...|\n",
      "|   1|XXXMobileMovieClu...|[xxxmobilemoviecl...|(13525,[0,4,8,11,...|(13525,[0,4,8,11,...|\n",
      "|   0|Oh k...i'm watchi...|[oh, k...i'm, wat...|(13525,[159,314,4...|(13525,[159,314,4...|\n",
      "|   0|Eh u remember how...|[eh, u, remember,...|(13525,[1,5,20,46...|(13525,[1,5,20,46...|\n",
      "|   0|Fine if that's th...|[fine, if, that's...|(13525,[4,5,30,59...|(13525,[4,5,30,59...|\n",
      "|   1|England v Macedon...|[england, v, mace...|(13525,[0,4,28,81...|(13525,[0,4,28,81...|\n",
      "+----+--------------------+--------------------+--------------------+--------------------+\n",
      "only showing top 20 rows\n",
      "\n"
     ]
    }
   ],
   "source": [
    "tfidf_pipeline.transform(sms_spam2_df).show() # Viewed resulting dataframe"
   ]
  },
  {
   "cell_type": "code",
   "execution_count": 8,
   "metadata": {
    "deletable": false,
    "editable": false,
    "nbgrader": {
     "checksum": "34ef778045b84441f525a78f9db3eb70",
     "grade": true,
     "grade_id": "cell-cd280a1ccf0f1705",
     "locked": true,
     "points": 5,
     "schema_version": 1,
     "solution": false
    }
   },
   "outputs": [],
   "source": [
    "# (5 pts)\n",
    "np.testing.assert_array_equal([type(s) for s in tfidf_pipeline.stages],\n",
    "                              [feature.Tokenizer, feature.CountVectorizerModel, feature.IDFModel])"
   ]
  },
  {
   "cell_type": "markdown",
   "metadata": {},
   "source": [
    "# Question 2.3: uppercase feature\n",
    "\n",
    "Typical spam messages contain words that are upper case. Create a dataframe `sms_spam3_df` where you add a new column `has_uppercase` which contains an integer `1` if the first sequence of uppercase letters is longer or equal to 3 and an integer `0` otherwise. You can extract sequence of 3 or more uppercase letters by using the regular expression `[A-Z]{3,}`. You will use the function `fn.regexp_extract` to find those sequences and extract the first one (e.g., with index 0) and then use `fn.length` to compute the length of such sequence."
   ]
  },
  {
   "cell_type": "code",
   "execution_count": 9,
   "metadata": {
    "deletable": false,
    "nbgrader": {
     "checksum": "4a654d9e0b5d08d00aaaaa4cb3e04e30",
     "grade": false,
     "grade_id": "cell-02520df239057529",
     "locked": false,
     "schema_version": 1,
     "solution": true
    }
   },
   "outputs": [
    {
     "name": "stdout",
     "output_type": "stream",
     "text": [
      "+----+--------------------+-------------+\n",
      "|type|                text|has_uppercase|\n",
      "+----+--------------------+-------------+\n",
      "|   0|Go until jurong p...|            0|\n",
      "|   0|Ok lar... Joking ...|            0|\n",
      "|   1|Free entry in 2 a...|            0|\n",
      "|   0|U dun say so earl...|            0|\n",
      "|   0|Nah I don't think...|            0|\n",
      "|   1|FreeMsg Hey there...|            0|\n",
      "|   0|Even my brother i...|            0|\n",
      "|   0|As per your reque...|            0|\n",
      "|   1|WINNER!! As a val...|            1|\n",
      "|   1|Had your mobile 1...|            1|\n",
      "|   0|I'm gonna be home...|            0|\n",
      "|   1|SIX chances to wi...|            1|\n",
      "|   1|URGENT! You have ...|            1|\n",
      "|   0|I've been searchi...|            0|\n",
      "|   0|I HAVE A DATE ON ...|            1|\n",
      "|   1|XXXMobileMovieClu...|            1|\n",
      "|   0|Oh k...i'm watchi...|            0|\n",
      "|   0|Eh u remember how...|            0|\n",
      "|   0|Fine if that's th...|            0|\n",
      "|   1|England v Macedon...|            1|\n",
      "+----+--------------------+-------------+\n",
      "only showing top 20 rows\n",
      "\n"
     ]
    }
   ],
   "source": [
    "# create sms_spam3_df below\n",
    "sms_spam3_df = sms_spam2_df.withColumn('has_uppercase', fn.regexp_extract(fn.col('text'), '[A-Z]{3,}', 0)) # Used regexp_extract() function to only return text values if the first sequence of uppercase letters is longer or equal to 3, and an empty string otherwise \n",
    "sms_spam3_df = sms_spam3_df.select(fn.col('type'), fn.col('text'), fn.when(fn.col('has_uppercase') == '', 0).otherwise(1).alias('has_uppercase')) # Replaced empty string values with 0 and 1 otherwise, assigned to has_uppercase feature\n",
    "sms_spam3_df.show() # Viewed resulting dataframe"
   ]
  },
  {
   "cell_type": "markdown",
   "metadata": {},
   "source": [
    "The first three messages with `has_uppercase == 1` are as follows:\n",
    "\n",
    "```python\n",
    "sms_spam3_df.where('has_uppercase == 1').take(3)\n",
    "```\n",
    "\n",
    "```console\n",
    "[Row(type=1, text='WINNER!! As a valued network customer you have been selected to receivea £900 prize reward! To claim call 09061701461. Claim code KL341. Valid 12 hours only.', has_uppercase=1),\n",
    " Row(type=1, text='Had your mobile 11 months or more? U R entitled to Update to the latest colour mobiles with camera for Free! Call The Mobile Update Co FREE on 08002986030', has_uppercase=1),\n",
    " Row(type=1, text='SIX chances to win CASH! From 100 to 20,000 pounds txt> CSH11 and send to 87575. Cost 150p/day, 6days, 16+ TsandCs apply Reply HL 4 info', has_uppercase=1)]\n",
    "```"
   ]
  },
  {
   "cell_type": "code",
   "execution_count": 10,
   "metadata": {},
   "outputs": [
    {
     "data": {
      "text/plain": [
       "[Row(type=1, text='WINNER!! As a valued network customer you have been selected to receivea £900 prize reward! To claim call 09061701461. Claim code KL341. Valid 12 hours only.', has_uppercase=1),\n",
       " Row(type=1, text='Had your mobile 11 months or more? U R entitled to Update to the latest colour mobiles with camera for Free! Call The Mobile Update Co FREE on 08002986030', has_uppercase=1),\n",
       " Row(type=1, text='SIX chances to win CASH! From 100 to 20,000 pounds txt> CSH11 and send to 87575. Cost 150p/day, 6days, 16+ TsandCs apply Reply HL 4 info', has_uppercase=1)]"
      ]
     },
     "execution_count": 10,
     "metadata": {},
     "output_type": "execute_result"
    }
   ],
   "source": [
    "# try it here\n",
    "sms_spam3_df.where('has_uppercase == 1').take(3) # Tested first three instances of 1 in the 'has_uppercase' feature column"
   ]
  },
  {
   "cell_type": "code",
   "execution_count": 11,
   "metadata": {
    "deletable": false,
    "editable": false,
    "nbgrader": {
     "checksum": "e380d6f60200785939c9acae7e614bef",
     "grade": true,
     "grade_id": "cell-905724115443b1ad",
     "locked": true,
     "points": 5,
     "schema_version": 1,
     "solution": false
    }
   },
   "outputs": [],
   "source": [
    "# (5 pts)\n",
    "np.testing.assert_equal(set(sms_spam3_df.columns), {'has_uppercase', 'text', 'type'})\n",
    "np.testing.assert_equal(type(sms_spam3_df.schema['has_uppercase'].dataType), sql.types.IntegerType)\n",
    "np.testing.assert_equal(sms_spam3_df.rdd.map(lambda x : x['has_uppercase']).sum(), 891)"
   ]
  },
  {
   "cell_type": "markdown",
   "metadata": {},
   "source": [
    "# Question 2.4: Compare models\n",
    "\n",
    "Using the following splits:"
   ]
  },
  {
   "cell_type": "code",
   "execution_count": 12,
   "metadata": {
    "deletable": false,
    "editable": false,
    "nbgrader": {
     "checksum": "8293adada027540531a2727eff204198",
     "grade": false,
     "grade_id": "cell-2f05175cd6ae7f5c",
     "locked": true,
     "schema_version": 1,
     "solution": false
    }
   },
   "outputs": [],
   "source": [
    "training_df, validation_df, testing_df = sms_spam2_df.randomSplit([0.6, 0.3, 0.1], seed=0)"
   ]
  },
  {
   "cell_type": "code",
   "execution_count": 13,
   "metadata": {},
   "outputs": [
    {
     "data": {
      "text/plain": [
       "[3311, 1709, 554]"
      ]
     },
     "execution_count": 13,
     "metadata": {},
     "output_type": "execute_result"
    }
   ],
   "source": [
    "[training_df.count(), validation_df.count(), testing_df.count()]"
   ]
  },
  {
   "cell_type": "markdown",
   "metadata": {},
   "source": [
    "**(5 pts)** Create pipelines where the first stage is the `tfidf_pipeline` created above and the second stage is a `LogisticRegression` model with different regularization parameters ($\\lambda$) and elastic net mixture ($\\alpha$). Fit those pipelines to the appropriate data split.\n",
    "\n",
    "1. Logistic regression with $\\lambda=0$ and $\\alpha=0$ (assign the fitted pipeline to `lr_pipeline1`)\n",
    "2. Logistic regression with $\\lambda=0.02$ and $\\alpha=0.2$ (assign the fitted pipeline to `lr_pipeline2`)\n",
    "3. Logistic regression with $\\lambda=0.1$ and $\\alpha=0.4$ (assign the fitted pipeline to `lr_pipeline3`)"
   ]
  },
  {
   "cell_type": "code",
   "execution_count": 14,
   "metadata": {
    "deletable": false,
    "nbgrader": {
     "checksum": "02b7fefd0dd482900ba644d56b02400a",
     "grade": false,
     "grade_id": "cell-8db1a50673eea1a7",
     "locked": false,
     "schema_version": 1,
     "solution": true
    }
   },
   "outputs": [],
   "source": [
    "# create lr_pipeline1, lr_pipeline2, and lr_pipeline3\n",
    "lr1 = classification.LogisticRegression(featuresCol = 'tfidf', labelCol = 'type', maxIter=100, regParam=0, elasticNetParam=0) # Created logistic regression stage with lamba = 0 and alpha = 0\n",
    "pipe1 = Pipeline(stages=[tfidf_pipeline, lr1]) # Created pipeline with previously defined tfidf_pipeline and the new logistic regression stage\n",
    "lr_pipeline1 = pipe1.fit(training_df) # Fit pipe to training data, assigned to lr_pipeline1\n",
    "lr2 = classification.LogisticRegression(featuresCol = 'tfidf', labelCol = 'type', maxIter=100, regParam=0.02, elasticNetParam=0.2) # Created logistic regression stage with lamba = 0.02 and alpha = 0.2\n",
    "pipe2 = Pipeline(stages=[tfidf_pipeline, lr2]) # Created pipeline with previously defined tfidf_pipeline and the new logistic regression stage\n",
    "lr_pipeline2 = pipe2.fit(training_df) # Fit pipe to training data, assigned to lr_pipeline2\n",
    "lr3 = classification.LogisticRegression(featuresCol = 'tfidf', labelCol = 'type', maxIter=100, regParam=0.1, elasticNetParam=0.4) # Created logistic regression stage with lamba = 0.1 and alpha = 0.4\n",
    "pipe3 = Pipeline(stages=[tfidf_pipeline, lr3]) # Created pipeline with previously defined tfidf_pipeline and the new logistic regression stage\n",
    "lr_pipeline3 = pipe3.fit(training_df) # Fit pipe to training data, assigned to lr_pipeline3"
   ]
  },
  {
   "cell_type": "code",
   "execution_count": 15,
   "metadata": {
    "deletable": false,
    "editable": false,
    "nbgrader": {
     "checksum": "bd388632281a19de36557ec7a00af21d",
     "grade": true,
     "grade_id": "cell-bc59c22c523a9016",
     "locked": true,
     "points": 10,
     "schema_version": 1,
     "solution": false
    }
   },
   "outputs": [],
   "source": [
    "# (10 pts)\n",
    "np.testing.assert_equal(type(lr_pipeline1), pipeline.PipelineModel)\n",
    "np.testing.assert_equal(type(lr_pipeline2), pipeline.PipelineModel)\n",
    "np.testing.assert_equal(type(lr_pipeline3), pipeline.PipelineModel)\n",
    "np.testing.assert_array_equal([type(s) for s in lr_pipeline1.stages],\n",
    "                              [pipeline.PipelineModel, classification.LogisticRegressionModel])\n",
    "np.testing.assert_array_equal([type(s) for s in lr_pipeline2.stages],\n",
    "                              [pipeline.PipelineModel, classification.LogisticRegressionModel])\n",
    "np.testing.assert_array_equal([type(s) for s in lr_pipeline3.stages],\n",
    "                              [pipeline.PipelineModel, classification.LogisticRegressionModel])"
   ]
  },
  {
   "cell_type": "markdown",
   "metadata": {},
   "source": [
    "**(5 pts)** Use the evaluator object defined below to compute the area under the curve of your predictors. For example, to compute the area under the curve of pipeline 1 for a dataframe `df`, you would run\n",
    "\n",
    "```python\n",
    "evaluator.evaluate(lr_pipeline1.transform(df))\n",
    "```\n",
    "\n",
    "Assign the AUC of the three models to the variables `AUC1`, `AUC2`, and `AUC3`, and and assign the pipeline with the best model to a variable `best_model`"
   ]
  },
  {
   "cell_type": "code",
   "execution_count": 16,
   "metadata": {
    "deletable": false,
    "editable": false,
    "nbgrader": {
     "checksum": "74638d21bd238bcc28672143908e8b8c",
     "grade": false,
     "grade_id": "cell-44d4a941d4aef83e",
     "locked": true,
     "schema_version": 1,
     "solution": false
    }
   },
   "outputs": [],
   "source": [
    "evaluator = evaluation.BinaryClassificationEvaluator(labelCol='type')"
   ]
  },
  {
   "cell_type": "markdown",
   "metadata": {},
   "source": [
    "For example, the AUC on training of the first model is perfect:\n",
    "\n",
    "```\n",
    "evaluator.evaluate(lr_pipeline1.transform(training_df))\n",
    "```\n",
    "\n",
    "```console\n",
    "1.0\n",
    "```"
   ]
  },
  {
   "cell_type": "code",
   "execution_count": 17,
   "metadata": {
    "deletable": false,
    "nbgrader": {
     "checksum": "6d2b1fd1d3f5e9dbcd1986f7c6486293",
     "grade": false,
     "grade_id": "cell-a9d883059572796b",
     "locked": false,
     "schema_version": 1,
     "solution": true
    }
   },
   "outputs": [
    {
     "name": "stdout",
     "output_type": "stream",
     "text": [
      "Model 1 AUC:  0.9606171229900157\n",
      "Model 2 AUC:  0.9900130378096487\n",
      "Model 3 AUC:  0.9543473851948426\n"
     ]
    }
   ],
   "source": [
    "# print the AUC for the three models as follows\n",
    "AUC1 = evaluator.evaluate(lr_pipeline1.transform(validation_df)) # Calculated AUC for lr_pipeline1 using the predefined evaluator on the validation data\n",
    "AUC2 = evaluator.evaluate(lr_pipeline2.transform(validation_df)) # Calculated AUC for lr_pipeline2 using the predefined evaluator on the validation data\n",
    "AUC3 = evaluator.evaluate(lr_pipeline3.transform(validation_df)) # Calculated AUC for lr_pipeline3 using the predefined evaluator on the validation data\n",
    "print(\"Model 1 AUC: \", AUC1) # Printed AUC1\n",
    "print(\"Model 2 AUC: \", AUC2) # Printed AUC2\n",
    "print(\"Model 3 AUC: \", AUC3) # Printed AUC3\n",
    "best_model = lr_pipeline2 # Assigned best_model to lr_pipeline2 because it had the best AUC score"
   ]
  },
  {
   "cell_type": "code",
   "execution_count": 18,
   "metadata": {
    "deletable": false,
    "editable": false,
    "nbgrader": {
     "checksum": "1c76a13060b46900aa055920ae5f6a2f",
     "grade": true,
     "grade_id": "cell-29d52d2cec5c8a1e",
     "locked": true,
     "points": 5,
     "schema_version": 1,
     "solution": false
    }
   },
   "outputs": [],
   "source": [
    "# (5 pts)\n",
    "np.testing.assert_array_equal([type(AUC1), type(AUC2), type(AUC3)],\n",
    "                             [float, float, float])\n",
    "# AUC less than 1\n",
    "np.testing.assert_array_less([AUC1, AUC2, AUC3], [1, 1, 1])\n",
    "# AUC more than 0.5\n",
    "np.testing.assert_array_less([.5, .5, .5],\n",
    "                            [AUC1, AUC2, AUC3])"
   ]
  },
  {
   "cell_type": "markdown",
   "metadata": {},
   "source": [
    "# Question 2.5: Choose best model\n",
    "\n",
    "Using the right split and the best model selected before, compute the generalization performance and assign it to a variable `AUC_best`"
   ]
  },
  {
   "cell_type": "code",
   "execution_count": 19,
   "metadata": {
    "deletable": false,
    "nbgrader": {
     "checksum": "7780410d49dd0727bea11bcfa2ec75de",
     "grade": false,
     "grade_id": "cell-2d30a81f9c08fc5d",
     "locked": false,
     "schema_version": 1,
     "solution": true
    }
   },
   "outputs": [
    {
     "data": {
      "text/plain": [
       "0.982324286708421"
      ]
     },
     "execution_count": 19,
     "metadata": {},
     "output_type": "execute_result"
    }
   ],
   "source": [
    "# assign to AUC_best the AUC of the best model selected before\n",
    "AUC_best = evaluator.evaluate(best_model.transform(testing_df)) # Assigned AUC_best to AUC score for best_model using the predefined evaluator on the testing data\n",
    "AUC_best # Returned AUC_best score"
   ]
  },
  {
   "cell_type": "code",
   "execution_count": 20,
   "metadata": {
    "deletable": false,
    "editable": false,
    "nbgrader": {
     "checksum": "77cef30af04406aeee070bae31e75129",
     "grade": true,
     "grade_id": "cell-dc8fd7d7ce658642",
     "locked": true,
     "points": 5,
     "schema_version": 1,
     "solution": false
    }
   },
   "outputs": [],
   "source": [
    "# (5 pts)\n",
    "np.testing.assert_approx_equal(AUC_best, \n",
    "                               0.976126746201693, significant=2)"
   ]
  },
  {
   "cell_type": "markdown",
   "metadata": {},
   "source": [
    "Using the same split and the best model, compute `precision`, `recall` and `f1_score`. You should first count the numbers in the confusion matrix, and then compute these metrics based on the formula."
   ]
  },
  {
   "cell_type": "code",
   "execution_count": 76,
   "metadata": {},
   "outputs": [
    {
     "name": "stdout",
     "output_type": "stream",
     "text": [
      "0.0    479\n",
      "Name: prediction, dtype: int64\n",
      "1.0    60\n",
      "0.0    15\n",
      "Name: prediction, dtype: int64\n",
      " Confusion Matrix\n",
      "         _______\n",
      "        |60 |15 |\n",
      "        |___|___|\n",
      "        |0  |479|\n",
      "        |___|___|\n",
      "        \n",
      "precision:  1.0\n",
      "recall:  0.8\n",
      "f1_score:  0.888888888888889\n"
     ]
    }
   ],
   "source": [
    "predictions = best_model.transform(testing_df).select('type', 'prediction').toPandas() # Returned pandas dataframe for predictions and labels \n",
    "ham = predictions.loc[predictions['type']==0] # Returned all values labeled as 1\n",
    "spam = predictions.loc[predictions['type']==1] # Returned all values labeled as 0\n",
    "print(ham['prediction'].value_counts()) # For values where True = 0, how many predictions were 0.0 and 1.0?\n",
    "print(spam['prediction'].value_counts()) # For values where True = 1, how many predictions were 0.0 and 1.0?\n",
    "\n",
    "print(\"\"\" Confusion Matrix\n",
    "         _______\n",
    "        |60 |15 |\n",
    "        |___|___|\n",
    "        |0  |479|\n",
    "        |___|___|\n",
    "        \"\"\") \n",
    "precision = 60/(60+0) # Precision = TP/TP+FP\n",
    "recall = 60/(60+15) # Recall = TP/True Condition Positive\n",
    "f1_score = (2*precision*recall)/(precision+recall) # f1_score\n",
    "print(\"precision: \",precision)\n",
    "print(\"recall: \",recall)\n",
    "print(\"f1_score: \",f1_score)"
   ]
  },
  {
   "cell_type": "code",
   "execution_count": 26,
   "metadata": {},
   "outputs": [],
   "source": [
    "# (5 pts)\n",
    "np.testing.assert_array_almost_equal([precision, recall, f1_score],\n",
    "    [1.0, 0.7976190476190477, 0.8874172185430463],\n",
    "                                     decimal=2)"
   ]
  },
  {
   "cell_type": "markdown",
   "metadata": {},
   "source": [
    "# Question 2.6: Inference\n",
    "\n",
    "Use the pipeline 2 fitted above (`lr_pipeline2`) to create Pandas dataframes that contain the most negative words and the most positive words. In particular, create a dataframe `positive_words` with the columns `word` and `weight` with the top 20 positive words, sorted by descending coefficient. Similarly create a `negative_words` Pandas dataframe with the top 20 negative words where the coefficient are sorted in ascending order. **Hint: follow the `sentiment_analysis.ipynb` notebook in the repo**"
   ]
  },
  {
   "cell_type": "code",
   "execution_count": null,
   "metadata": {
    "deletable": false,
    "nbgrader": {
     "checksum": "b517fb83f670ea60b1fdb1580356a410",
     "grade": false,
     "grade_id": "cell-9fa9de453a36f8d2",
     "locked": false,
     "schema_version": 1,
     "solution": true
    }
   },
   "outputs": [],
   "source": [
    "# create positive_words and negative_words pandas dataframe below\n",
    "vocabulary = lr_pipeline2.stages[0].stages[1].vocabulary # Assigned vocabulary to vocabulary values found in the second stage of the tfidf_pipeline\n",
    "weights = lr_pipeline2.stages[-1].coefficients.toArray() # Assigned weights to weights values found in the logistic regression stage of the lr_pipeline2\n",
    "coeffs_df = pd.DataFrame({'word': vocabulary, 'weight': weights}) # Created pandas dataframe with word and weight features, assigned to coeffs_df\n",
    "negative_words = coeffs_df.sort_values('weight').head(20) # Returned negative words sorted by weight\n",
    "positive_words = coeffs_df.sort_values('weight', ascending=False).head(20) # Returned positive words sorted by weight"
   ]
  },
  {
   "cell_type": "code",
   "execution_count": null,
   "metadata": {},
   "outputs": [],
   "source": [
    "# examine positive vocabulary\n",
    "positive_words.head() # Viewed positive vocabulary"
   ]
  },
  {
   "cell_type": "code",
   "execution_count": null,
   "metadata": {},
   "outputs": [],
   "source": [
    "# examine solutions\n",
    "negative_words.head() # Viewed negative vocabulary"
   ]
  },
  {
   "cell_type": "markdown",
   "metadata": {},
   "source": [
    "The `positive_words` and `negative_words` dataframe should look like this:\n",
    "\n",
    "```python\n",
    "positive_words.head()\n",
    "```\n",
    "\n",
    "<table border=\"1\" class=\"dataframe\">\n",
    "  <thead>\n",
    "    <tr style=\"text-align: right;\">\n",
    "      <th></th>\n",
    "      <th>word</th>\n",
    "      <th>weight</th>\n",
    "    </tr>\n",
    "  </thead>\n",
    "  <tbody>\n",
    "    <tr>\n",
    "      <th>3555</th>\n",
    "      <td>widelive.com/index.</td>\n",
    "      <td>0.590870</td>\n",
    "    </tr>\n",
    "    <tr>\n",
    "      <th>12237</th>\n",
    "      <td>08714712388</td>\n",
    "      <td>0.533567</td>\n",
    "    </tr>\n",
    "    <tr>\n",
    "      <th>15</th>\n",
    "      <td>call</td>\n",
    "      <td>0.517100</td>\n",
    "    </tr>\n",
    "    <tr>\n",
    "      <th>81</th>\n",
    "      <td>txt</td>\n",
    "      <td>0.513278</td>\n",
    "    </tr>\n",
    "    <tr>\n",
    "      <th>9064</th>\n",
    "      <td>gbp/sms</td>\n",
    "      <td>0.468274</td>\n",
    "    </tr>\n",
    "  </tbody>\n",
    "</table>\n",
    "\n",
    "and \n",
    "\n",
    "```python\n",
    "negative_words.head()\n",
    "```\n",
    "\n",
    "<table border=\"1\" class=\"dataframe\">\n",
    "  <thead>\n",
    "    <tr style=\"text-align: right;\">\n",
    "      <th></th>\n",
    "      <th>word</th>\n",
    "      <th>weight</th>\n",
    "    </tr>\n",
    "  </thead>\n",
    "  <tbody>\n",
    "    <tr>\n",
    "      <th>1</th>\n",
    "      <td>i</td>\n",
    "      <td>-0.162493</td>\n",
    "    </tr>\n",
    "    <tr>\n",
    "      <th>2444</th>\n",
    "      <td>fighting</td>\n",
    "      <td>-0.060939</td>\n",
    "    </tr>\n",
    "    <tr>\n",
    "      <th>3221</th>\n",
    "      <td>dificult</td>\n",
    "      <td>-0.059061</td>\n",
    "    </tr>\n",
    "    <tr>\n",
    "      <th>3371</th>\n",
    "      <td>fightng</td>\n",
    "      <td>-0.059061</td>\n",
    "    </tr>\n",
    "    <tr>\n",
    "      <th>3332</th>\n",
    "      <td>lose.</td>\n",
    "      <td>-0.059061</td>\n",
    "    </tr>\n",
    "  </tbody>\n",
    "</table>"
   ]
  },
  {
   "cell_type": "code",
   "execution_count": null,
   "metadata": {
    "deletable": false,
    "editable": false,
    "nbgrader": {
     "checksum": "9d1c1cfaa5326d7403d0c48891dea0b0",
     "grade": true,
     "grade_id": "cell-5926b249c3d8d910",
     "locked": true,
     "points": 5,
     "schema_version": 1,
     "solution": false
    }
   },
   "outputs": [],
   "source": [
    "# (5 pts)\n",
    "np.testing.assert_equal(set(positive_words.columns), {'weight', 'word'})\n",
    "np.testing.assert_equal(set(negative_words.columns), {'weight', 'word'})\n",
    "np.testing.assert_approx_equal(positive_words.weight.sum(), 8.3701485692317927, significant=2)\n",
    "np.testing.assert_approx_equal(negative_words.weight.sum(), -0.6661952507442954, significant=2)\n",
    "np.testing.assert_array_less(positive_words.weight.iloc[-1], positive_words.weight.iloc[0])\n",
    "np.testing.assert_array_less(negative_words.weight.iloc[0], negative_words.weight.iloc[-1])"
   ]
  },
  {
   "cell_type": "markdown",
   "metadata": {},
   "source": [
    "# Question 2.7\n",
    "Use the dataframe `sms_spam3_df` to create a model where the first feature is `has_uppercase` and the next set of features are the tfidf of the text. Perform feature engineering in all features using a max absolute scaler ([`MaxAbsScaler`](https://spark.apache.org/docs/2.0.2/ml-features.html#maxabsscaler)). Do a logistic regression on the resulting scaled features with regularization parameter $\\lambda = 0.2$ and elastic net mixture $\\alpha=0.1$ for the entire data (all of `sms_spam3_df`). Since you have scaled all features to be within the same range, you can compare them. \n",
    "\n",
    "**(5 pts)** with code and comments, answer below\n",
    "\n",
    "1. is `has_uppercase` a feature that is positively or negative related to an SMS being spam?\n",
    "2. what is the ratio of the coefficient of `has_uppercase` to the biggest positive tfidf coefficient?"
   ]
  },
  {
   "cell_type": "code",
   "execution_count": null,
   "metadata": {
    "deletable": false,
    "nbgrader": {
     "checksum": "b811be2a38e793ee1cfdbc0c0624addb",
     "grade": true,
     "grade_id": "cell-63ad341d276b5971",
     "locked": false,
     "points": 5,
     "schema_version": 1,
     "solution": true
    }
   },
   "outputs": [],
   "source": [
    "# your code and comments below\n",
    "va = feature.VectorAssembler(inputCols=['has_uppercase', 'tfidf'], outputCol='features') # Created a model where the first feature is 'has_uppercase' and the next set of features are the tfidf of the text\n",
    "ms = feature.MaxAbsScaler(inputCol='features',outputCol='scaledFeatures') # Used a max absolute scaler to perform feature engineering on all features\n",
    "lr = classification.LogisticRegression(featuresCol = 'scaledFeatures', labelCol = 'type', maxIter=100, regParam=0.2, elasticNetParam=0.1) # Performed logistic regression on the resulting scaled features with regularization parameter = 0.2 and elastic net measure = 0.1\n",
    "pipe = Pipeline(stages=[tfidf_pipeline, va, ms, lr]) # Created pipe with existing tfidf_pipeline, vector assembler, max absolute scaler, and logistic regression\n",
    "pipe_model_scaled = pipe.fit(sms_spam3_df) # Fit pipe to sms_spam3_df\n",
    "pipe_model_scaled.stages[-1].coefficients # Returned model coefficients\n",
    "\n",
    "#1 has_uppercase is a feature that is positively related to SMS being spam (0.9289)\n",
    "#0.9289/2.0119\n",
    "#2 The ratio of the coefficient of has_uppercase to the biggest positive tfidf coefficient is 0.4612"
   ]
  }
 ],
 "metadata": {
  "kernelspec": {
   "display_name": "Python 3",
   "language": "python",
   "name": "python3"
  },
  "language_info": {
   "codemirror_mode": {
    "name": "ipython",
    "version": 3
   },
   "file_extension": ".py",
   "mimetype": "text/x-python",
   "name": "python",
   "nbconvert_exporter": "python",
   "pygments_lexer": "ipython3",
   "version": "3.8.6"
  },
  "toc": {
   "base_numbering": 1,
   "nav_menu": {},
   "number_sections": true,
   "sideBar": true,
   "skip_h1_title": false,
   "title_cell": "Table of Contents",
   "title_sidebar": "Contents",
   "toc_cell": false,
   "toc_position": {},
   "toc_section_display": true,
   "toc_window_display": false
  }
 },
 "nbformat": 4,
 "nbformat_minor": 4
}
