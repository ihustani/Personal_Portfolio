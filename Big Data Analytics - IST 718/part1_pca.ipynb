{
 "cells": [
  {
   "cell_type": "markdown",
   "id": "virgin-sociology",
   "metadata": {
    "deletable": false,
    "editable": false,
    "nbgrader": {
     "cell_type": "markdown",
     "checksum": "0a8b253cea124309dc7872a31b41818e",
     "grade": false,
     "grade_id": "cell-b038e38b5e3072a9",
     "locked": true,
     "schema_version": 3,
     "solution": false
    }
   },
   "source": [
    "# IST 718: Big Data Analytics\n",
    "\n",
    "- Professor: Daniel Acuna <deacuna@syr.edu>\n",
    "\n",
    "## General instructions:\n",
    "\n",
    "- You are welcome to discuss the problems with your classmates but __you are not allowed to copy any part of your answers either from your classmates or from the internet__\n",
    "- You can put the homework files anywhere you want in your https://jupyterhub.ischool.syr.edu/ workspace but _do not change_ the file names. The TAs and the professor use these names to grade your homework.\n",
    "- Remove or comment out code that contains `raise NotImplementedError`. This is mainly to make the `assert` statement fail if nothing is submitted.\n",
    "- The tests shown in some cells (i.e., `assert` and `np.testing.` statements) are used to grade your answers. **However, the professor and TAs will use __additional__ test for your answer. Think about cases where your code should run even if it passess all the tests you see.**\n",
    "- Before downloading and submitting your work through Blackboard, remember to save and press `Validate` (or go to \n",
    "`Kernel`$\\rightarrow$`Restart and Run All`). \n",
    "- Good luck!"
   ]
  },
  {
   "cell_type": "code",
   "execution_count": 1,
   "id": "foreign-vertex",
   "metadata": {
    "deletable": false,
    "editable": false,
    "nbgrader": {
     "cell_type": "code",
     "checksum": "7ed49adab516113dd668dc4aa74d70f0",
     "grade": false,
     "grade_id": "cell-2c749be52496611a",
     "locked": true,
     "schema_version": 3,
     "solution": false
    }
   },
   "outputs": [],
   "source": [
    "# Load the packages needed for this part\n",
    "# create spark and sparkcontext objects\n",
    "from pyspark.sql import SparkSession\n",
    "import numpy as np\n",
    "\n",
    "spark = SparkSession.builder.getOrCreate()\n",
    "sc = spark.sparkContext\n",
    "\n",
    "from pyspark.ml import feature, regression, Pipeline, pipeline\n",
    "from pyspark.sql import types, Row, functions as fn\n",
    "from pyspark import sql\n",
    "import pandas as pd\n",
    "import matplotlib.pyplot as plt"
   ]
  },
  {
   "cell_type": "markdown",
   "id": "biological-orbit",
   "metadata": {},
   "source": [
    "# Part 1: PCA and feature engineering"
   ]
  },
  {
   "cell_type": "markdown",
   "id": "amazing-context",
   "metadata": {},
   "source": [
    "The government of Syracuse is trying to understand how to better keep its streets in good condition. Luckily, they have a datset obtained from patching said streets. Using this dataset, they want to easily visualize the characteristics of the city."
   ]
  },
  {
   "cell_type": "code",
   "execution_count": 2,
   "id": "extraordinary-diameter",
   "metadata": {
    "deletable": false,
    "editable": false,
    "nbgrader": {
     "cell_type": "code",
     "checksum": "4a5b1951af78ff183b2d134705a4800d",
     "grade": false,
     "grade_id": "cell-29a671793ab25031",
     "locked": true,
     "schema_version": 3,
     "solution": false
    }
   },
   "outputs": [],
   "source": [
    "# load the data\n",
    "syracuse_streets = spark.read.json(\"syracuse.json.gz\")"
   ]
  },
  {
   "cell_type": "markdown",
   "id": "constitutional-tiffany",
   "metadata": {},
   "source": [
    "In particular, the city is interested in understanding the following features:\n",
    "\n",
    "- `Latitude` \n",
    "- `Longitude`\n",
    "- `crack`: number of cracks on the street (visually inspected)\n",
    "- `patch`: number of patches on the street (visually inspected)\n",
    "- `pavement`: quality of the pavement\n",
    "- `length`: street length\n",
    "- `width`: street width"
   ]
  },
  {
   "cell_type": "code",
   "execution_count": 3,
   "id": "express-mainstream",
   "metadata": {},
   "outputs": [
    {
     "data": {
      "text/html": [
       "<div>\n",
       "<style scoped>\n",
       "    .dataframe tbody tr th:only-of-type {\n",
       "        vertical-align: middle;\n",
       "    }\n",
       "\n",
       "    .dataframe tbody tr th {\n",
       "        vertical-align: top;\n",
       "    }\n",
       "\n",
       "    .dataframe thead th {\n",
       "        text-align: right;\n",
       "    }\n",
       "</style>\n",
       "<table border=\"1\" class=\"dataframe\">\n",
       "  <thead>\n",
       "    <tr style=\"text-align: right;\">\n",
       "      <th></th>\n",
       "      <th>Latitude</th>\n",
       "      <th>Longitude</th>\n",
       "      <th>crack</th>\n",
       "      <th>patch</th>\n",
       "      <th>pavement</th>\n",
       "      <th>length</th>\n",
       "      <th>width</th>\n",
       "    </tr>\n",
       "  </thead>\n",
       "  <tbody>\n",
       "    <tr>\n",
       "      <th>0</th>\n",
       "      <td>-76.152482</td>\n",
       "      <td>42.997837</td>\n",
       "      <td>3</td>\n",
       "      <td>4</td>\n",
       "      <td>3</td>\n",
       "      <td>1064</td>\n",
       "      <td>27</td>\n",
       "    </tr>\n",
       "    <tr>\n",
       "      <th>1</th>\n",
       "      <td>-76.152482</td>\n",
       "      <td>42.997837</td>\n",
       "      <td>4</td>\n",
       "      <td>5</td>\n",
       "      <td>3</td>\n",
       "      <td>1064</td>\n",
       "      <td>27</td>\n",
       "    </tr>\n",
       "    <tr>\n",
       "      <th>2</th>\n",
       "      <td>-76.152482</td>\n",
       "      <td>42.997837</td>\n",
       "      <td>4</td>\n",
       "      <td>4</td>\n",
       "      <td>3</td>\n",
       "      <td>1064</td>\n",
       "      <td>27</td>\n",
       "    </tr>\n",
       "    <tr>\n",
       "      <th>3</th>\n",
       "      <td>-76.152482</td>\n",
       "      <td>42.997837</td>\n",
       "      <td>3</td>\n",
       "      <td>4</td>\n",
       "      <td>3</td>\n",
       "      <td>1064</td>\n",
       "      <td>27</td>\n",
       "    </tr>\n",
       "    <tr>\n",
       "      <th>4</th>\n",
       "      <td>-76.152482</td>\n",
       "      <td>42.997837</td>\n",
       "      <td>4</td>\n",
       "      <td>2</td>\n",
       "      <td>3</td>\n",
       "      <td>1064</td>\n",
       "      <td>27</td>\n",
       "    </tr>\n",
       "    <tr>\n",
       "      <th>5</th>\n",
       "      <td>-76.152482</td>\n",
       "      <td>42.997837</td>\n",
       "      <td>4</td>\n",
       "      <td>5</td>\n",
       "      <td>3</td>\n",
       "      <td>1064</td>\n",
       "      <td>27</td>\n",
       "    </tr>\n",
       "    <tr>\n",
       "      <th>6</th>\n",
       "      <td>-76.152482</td>\n",
       "      <td>42.997837</td>\n",
       "      <td>4</td>\n",
       "      <td>4</td>\n",
       "      <td>3</td>\n",
       "      <td>1064</td>\n",
       "      <td>27</td>\n",
       "    </tr>\n",
       "    <tr>\n",
       "      <th>7</th>\n",
       "      <td>-76.152482</td>\n",
       "      <td>42.997837</td>\n",
       "      <td>4</td>\n",
       "      <td>4</td>\n",
       "      <td>3</td>\n",
       "      <td>1064</td>\n",
       "      <td>27</td>\n",
       "    </tr>\n",
       "    <tr>\n",
       "      <th>8</th>\n",
       "      <td>-76.152482</td>\n",
       "      <td>42.997837</td>\n",
       "      <td>3</td>\n",
       "      <td>2</td>\n",
       "      <td>3</td>\n",
       "      <td>1064</td>\n",
       "      <td>27</td>\n",
       "    </tr>\n",
       "    <tr>\n",
       "      <th>9</th>\n",
       "      <td>-76.159402</td>\n",
       "      <td>43.048630</td>\n",
       "      <td>4</td>\n",
       "      <td>5</td>\n",
       "      <td>6</td>\n",
       "      <td>650</td>\n",
       "      <td>34</td>\n",
       "    </tr>\n",
       "  </tbody>\n",
       "</table>\n",
       "</div>"
      ],
      "text/plain": [
       "    Latitude  Longitude  crack  patch  pavement  length  width\n",
       "0 -76.152482  42.997837      3      4         3    1064     27\n",
       "1 -76.152482  42.997837      4      5         3    1064     27\n",
       "2 -76.152482  42.997837      4      4         3    1064     27\n",
       "3 -76.152482  42.997837      3      4         3    1064     27\n",
       "4 -76.152482  42.997837      4      2         3    1064     27\n",
       "5 -76.152482  42.997837      4      5         3    1064     27\n",
       "6 -76.152482  42.997837      4      4         3    1064     27\n",
       "7 -76.152482  42.997837      4      4         3    1064     27\n",
       "8 -76.152482  42.997837      3      2         3    1064     27\n",
       "9 -76.159402  43.048630      4      5         6     650     34"
      ]
     },
     "execution_count": 3,
     "metadata": {},
     "output_type": "execute_result"
    }
   ],
   "source": [
    "# take a look at the numerical features\n",
    "syracuse_streets.select(['Latitude', \n",
    "               'Longitude', \n",
    "               'crack', \n",
    "               'patch',  \n",
    "               'pavement',\n",
    "               'length', \n",
    "               'width']).limit(10).toPandas()"
   ]
  },
  {
   "cell_type": "markdown",
   "id": "portuguese-interval",
   "metadata": {},
   "source": [
    "For some of the questions, you will use the following user-defined function that transforms a vector into an array."
   ]
  },
  {
   "cell_type": "code",
   "execution_count": 4,
   "id": "starting-belly",
   "metadata": {
    "deletable": false,
    "editable": false,
    "nbgrader": {
     "cell_type": "code",
     "checksum": "f02fc2dc8229861ba3639f5402a94ca4",
     "grade": false,
     "grade_id": "cell-50317aacd41c00f0",
     "locked": true,
     "schema_version": 3,
     "solution": false
    }
   },
   "outputs": [],
   "source": [
    "@fn.udf(returnType=types.ArrayType(types.FloatType()))\n",
    "def to_array(col):\n",
    "    return col.toArray().tolist()"
   ]
  },
  {
   "cell_type": "markdown",
   "id": "rural-rough",
   "metadata": {},
   "source": [
    "For example, suppose you have latitude and longitude as a column of type vector. The way Spark encodes vectors is different from arrays and therefore they are not easy to manipulable. The above function allows you to transform a vector into an array for easy manipulation"
   ]
  },
  {
   "cell_type": "code",
   "execution_count": 5,
   "id": "reflected-living",
   "metadata": {},
   "outputs": [
    {
     "name": "stdout",
     "output_type": "stream",
     "text": [
      "+--------------------+\n",
      "|      feature_vector|\n",
      "+--------------------+\n",
      "|[-76.1524819382,4...|\n",
      "|[-76.1524819382,4...|\n",
      "|[-76.1524819382,4...|\n",
      "|[-76.1524819382,4...|\n",
      "|[-76.1524819382,4...|\n",
      "+--------------------+\n",
      "only showing top 5 rows\n",
      "\n"
     ]
    }
   ],
   "source": [
    "(feature\n",
    " .VectorAssembler(inputCols=['Latitude', 'Longitude'], outputCol='feature_vector')\n",
    " .transform(syracuse_streets)\n",
    " .select('feature_vector')\n",
    " .show(5)\n",
    ")"
   ]
  },
  {
   "cell_type": "markdown",
   "id": "hindu-shock",
   "metadata": {},
   "source": [
    "For example, we can take apart pieces of the array using `fn.expr('feature_array[i]')` notation to extract the ith element:"
   ]
  },
  {
   "cell_type": "code",
   "execution_count": 6,
   "id": "brutal-shakespeare",
   "metadata": {},
   "outputs": [
    {
     "name": "stdout",
     "output_type": "stream",
     "text": [
      "+---------+---------+\n",
      "| latitude|longitude|\n",
      "+---------+---------+\n",
      "|-76.15248|42.997837|\n",
      "|-76.15248|42.997837|\n",
      "|-76.15248|42.997837|\n",
      "|-76.15248|42.997837|\n",
      "|-76.15248|42.997837|\n",
      "+---------+---------+\n",
      "only showing top 5 rows\n",
      "\n"
     ]
    }
   ],
   "source": [
    "(feature\n",
    " .VectorAssembler(inputCols=['Latitude', 'Longitude'], outputCol='feature_vector')\n",
    " .transform(syracuse_streets)\n",
    " .select(to_array('feature_vector').alias('feature_array'))\n",
    " .select(fn.expr('feature_array[0]').alias('latitude'), \n",
    "         fn.expr('feature_array[1]').alias('longitude'))\n",
    " .show(5)\n",
    ")"
   ]
  },
  {
   "cell_type": "markdown",
   "id": "adapted-tuning",
   "metadata": {},
   "source": [
    "You can do a lot more things with arrays. Take a look at https://sparkbyexamples.com/spark/spark-sql-array-functions/"
   ]
  },
  {
   "cell_type": "markdown",
   "id": "neural-output",
   "metadata": {},
   "source": [
    "## Question 1: (30 pts) Simple PCA\n",
    "\n",
    "In this question, you will perform PCA to understand and visualize the data. You will analyze the features `Latitude`, `Longitude`, `crack`, `patch`,  `pavement`, `length`, and `width`."
   ]
  },
  {
   "cell_type": "code",
   "execution_count": 7,
   "id": "analyzed-regulation",
   "metadata": {
    "deletable": false,
    "editable": false,
    "nbgrader": {
     "cell_type": "code",
     "checksum": "d5e03e0dcbfabecb8c20fe394b088b39",
     "grade": false,
     "grade_id": "cell-904d97d8b47e0096",
     "locked": true,
     "schema_version": 3,
     "solution": false
    }
   },
   "outputs": [],
   "source": [
    "feature_list = ['Latitude', \n",
    "               'Longitude', \n",
    "               'crack', \n",
    "               'patch',  \n",
    "               'pavement',\n",
    "               'length', \n",
    "               'width']"
   ]
  },
  {
   "cell_type": "markdown",
   "id": "premium-canadian",
   "metadata": {},
   "source": [
    "In the cell below, create a pipeline model (i.e., fitted pipeline) called `pca_2d` that takes the features above and projects them into **two** principal components. Before fitting the PCA model, make sure to **standardized** your data (i.e., center **and** divide by standard deviation) using `feature.StandardScaler`. Make sure the PCA part of the model generates an output column called `pc`."
   ]
  },
  {
   "cell_type": "code",
   "execution_count": 8,
   "id": "structural-brick",
   "metadata": {
    "deletable": false,
    "nbgrader": {
     "cell_type": "code",
     "checksum": "13c9c25ef87d53b34e515fe5a47b2435",
     "grade": false,
     "grade_id": "cell-71b01125accfad33",
     "locked": false,
     "schema_version": 3,
     "solution": true
    }
   },
   "outputs": [],
   "source": [
    "# create pipeline to produce principal components of data\n",
    "va = feature.VectorAssembler(inputCols=feature_list, outputCol='features') # Created VectorAssembler pipeline stage for converting features in feature_list to a single features vector\n",
    "ss = feature.StandardScaler(withMean=True,inputCol=\"features\", outputCol=\"scaledFeatures\") # Created StandardScaler pipeline stage for standarizing the features vector, output as scaledFeatures\n",
    "pca = feature.PCA(k=2, inputCol=\"scaledFeatures\", outputCol=\"pc\") # Projected scaledFeatures into two principal components using a PCA pipeline stage\n",
    "pipe = Pipeline(stages=[va, ss, pca]) # Created pipeline estimator with va, ss, and pca stages\n",
    "pca_2d = pipe.fit(syracuse_streets) # Fit pipeline to syracuse_streets dataset, assigned to pca_2d"
   ]
  },
  {
   "cell_type": "markdown",
   "id": "supported-portal",
   "metadata": {},
   "source": [
    "Check that the fitted pipeline works:"
   ]
  },
  {
   "cell_type": "code",
   "execution_count": 9,
   "id": "hungarian-theta",
   "metadata": {},
   "outputs": [
    {
     "name": "stdout",
     "output_type": "stream",
     "text": [
      "+--------------+-------------+-----+-----+--------+------+-----+--------------------+\n",
      "|      Latitude|    Longitude|crack|patch|pavement|length|width|                  pc|\n",
      "+--------------+-------------+-----+-----+--------+------+-----+--------------------+\n",
      "|-76.1524819382|42.9978369009|    3|    4|       3|  1064|   27|[-1.7991028261303...|\n",
      "|-76.1524819382|42.9978369009|    4|    5|       3|  1064|   27|[-1.5125989958525...|\n",
      "|-76.1524819382|42.9978369009|    4|    4|       3|  1064|   27|[-1.6656924808867...|\n",
      "|-76.1524819382|42.9978369009|    3|    4|       3|  1064|   27|[-1.7991028261303...|\n",
      "|-76.1524819382|42.9978369009|    4|    2|       3|  1064|   27|[-1.9718794509550...|\n",
      "+--------------+-------------+-----+-----+--------+------+-----+--------------------+\n",
      "only showing top 5 rows\n",
      "\n"
     ]
    }
   ],
   "source": [
    "pca_2d.transform(syracuse_streets).select(feature_list + ['pc']).show(5)"
   ]
  },
  {
   "cell_type": "code",
   "execution_count": 10,
   "id": "waiting-violin",
   "metadata": {
    "deletable": false,
    "editable": false,
    "nbgrader": {
     "cell_type": "code",
     "checksum": "ad3e24f7b8963ee49501fbe8135de36a",
     "grade": true,
     "grade_id": "cell-d1dcd89b60cb37aa",
     "locked": true,
     "points": 15,
     "schema_version": 3,
     "solution": false
    }
   },
   "outputs": [],
   "source": [
    "# 15 pts\n",
    "assert type(pca_2d) == pipeline.PipelineModel\n",
    "assert type(pca_2d.stages[-1]) == feature.PCAModel\n",
    "assert set(pca_2d.stages[0].extractParamMap()[(pca_2d.stages[0].inputCols)]) == \\\n",
    " {'Longitude', 'Latitude', 'crack', 'patch', 'pavement', 'length', 'width'}\n",
    "assert feature.StandardScalerModel in list(map(type, pca_2d.stages))"
   ]
  },
  {
   "cell_type": "markdown",
   "id": "regular-township",
   "metadata": {},
   "source": [
    "Now, let's visualize the principal components. Create a Pandas dataframe that contains the `Longitude`, PC 1 (name it `pc1`), and PC 2 (name it `pc2`). You should use the udf `to_array` defined above to pluck the first and second component of the principal component into their own columns. Call this pandas dataframe `syracuse_2d`."
   ]
  },
  {
   "cell_type": "code",
   "execution_count": 11,
   "id": "sound-mention",
   "metadata": {
    "deletable": false,
    "nbgrader": {
     "cell_type": "code",
     "checksum": "aa20dad719809a4aa49a055e943d4fc7",
     "grade": false,
     "grade_id": "cell-3cb65194561609b1",
     "locked": false,
     "schema_version": 3,
     "solution": true
    }
   },
   "outputs": [],
   "source": [
    "# put your code here to produce a pandas dataframe with columns Longitude, pc1, and pc2\n",
    "syracuse_2d = pca_2d.transform(syracuse_streets).select(feature_list + ['pc']) # Returned transformed dataframe using pca_2d pipeline\n",
    "syracuse_2d = syracuse_2d.select(fn.col('Longitude').alias('Longitude'), to_array('pc').alias('pc_array')) # Selected Longitude and PC columns with PC values as an array\n",
    "syracuse_2d = syracuse_2d.select(fn.col('Longitude').alias('Longitude'), fn.expr('pc_array[0]').alias('pc1'), fn.expr('pc_array[1]').alias('pc2')) # Selected specific values within the pc_array, in addition to Longitude\n",
    "syracuse_2d = syracuse_2d.toPandas() # Converted to a pandas dataframe"
   ]
  },
  {
   "cell_type": "code",
   "execution_count": 12,
   "id": "transsexual-review",
   "metadata": {},
   "outputs": [
    {
     "data": {
      "text/html": [
       "<div>\n",
       "<style scoped>\n",
       "    .dataframe tbody tr th:only-of-type {\n",
       "        vertical-align: middle;\n",
       "    }\n",
       "\n",
       "    .dataframe tbody tr th {\n",
       "        vertical-align: top;\n",
       "    }\n",
       "\n",
       "    .dataframe thead th {\n",
       "        text-align: right;\n",
       "    }\n",
       "</style>\n",
       "<table border=\"1\" class=\"dataframe\">\n",
       "  <thead>\n",
       "    <tr style=\"text-align: right;\">\n",
       "      <th></th>\n",
       "      <th>Longitude</th>\n",
       "      <th>pc1</th>\n",
       "      <th>pc2</th>\n",
       "    </tr>\n",
       "  </thead>\n",
       "  <tbody>\n",
       "    <tr>\n",
       "      <th>0</th>\n",
       "      <td>42.997837</td>\n",
       "      <td>-1.799103</td>\n",
       "      <td>0.122675</td>\n",
       "    </tr>\n",
       "    <tr>\n",
       "      <th>1</th>\n",
       "      <td>42.997837</td>\n",
       "      <td>-1.512599</td>\n",
       "      <td>-1.289295</td>\n",
       "    </tr>\n",
       "    <tr>\n",
       "      <th>2</th>\n",
       "      <td>42.997837</td>\n",
       "      <td>-1.665692</td>\n",
       "      <td>-0.645648</td>\n",
       "    </tr>\n",
       "    <tr>\n",
       "      <th>3</th>\n",
       "      <td>42.997837</td>\n",
       "      <td>-1.799103</td>\n",
       "      <td>0.122675</td>\n",
       "    </tr>\n",
       "    <tr>\n",
       "      <th>4</th>\n",
       "      <td>42.997837</td>\n",
       "      <td>-1.971879</td>\n",
       "      <td>0.641645</td>\n",
       "    </tr>\n",
       "    <tr>\n",
       "      <th>...</th>\n",
       "      <td>...</td>\n",
       "      <td>...</td>\n",
       "      <td>...</td>\n",
       "    </tr>\n",
       "    <tr>\n",
       "      <th>7821</th>\n",
       "      <td>43.004144</td>\n",
       "      <td>-1.612041</td>\n",
       "      <td>-0.301039</td>\n",
       "    </tr>\n",
       "    <tr>\n",
       "      <th>7822</th>\n",
       "      <td>43.004144</td>\n",
       "      <td>-1.898545</td>\n",
       "      <td>1.110930</td>\n",
       "    </tr>\n",
       "    <tr>\n",
       "      <th>7823</th>\n",
       "      <td>43.004144</td>\n",
       "      <td>-1.765135</td>\n",
       "      <td>0.342607</td>\n",
       "    </tr>\n",
       "    <tr>\n",
       "      <th>7824</th>\n",
       "      <td>43.004144</td>\n",
       "      <td>-1.612041</td>\n",
       "      <td>-0.301039</td>\n",
       "    </tr>\n",
       "    <tr>\n",
       "      <th>7825</th>\n",
       "      <td>43.004144</td>\n",
       "      <td>-1.898545</td>\n",
       "      <td>1.110930</td>\n",
       "    </tr>\n",
       "  </tbody>\n",
       "</table>\n",
       "<p>7826 rows × 3 columns</p>\n",
       "</div>"
      ],
      "text/plain": [
       "      Longitude       pc1       pc2\n",
       "0     42.997837 -1.799103  0.122675\n",
       "1     42.997837 -1.512599 -1.289295\n",
       "2     42.997837 -1.665692 -0.645648\n",
       "3     42.997837 -1.799103  0.122675\n",
       "4     42.997837 -1.971879  0.641645\n",
       "...         ...       ...       ...\n",
       "7821  43.004144 -1.612041 -0.301039\n",
       "7822  43.004144 -1.898545  1.110930\n",
       "7823  43.004144 -1.765135  0.342607\n",
       "7824  43.004144 -1.612041 -0.301039\n",
       "7825  43.004144 -1.898545  1.110930\n",
       "\n",
       "[7826 rows x 3 columns]"
      ]
     },
     "execution_count": 12,
     "metadata": {},
     "output_type": "execute_result"
    }
   ],
   "source": [
    "syracuse_2d"
   ]
  },
  {
   "cell_type": "code",
   "execution_count": 13,
   "id": "loaded-maria",
   "metadata": {
    "deletable": false,
    "editable": false,
    "nbgrader": {
     "cell_type": "code",
     "checksum": "c6942c50a2902d4814e3d693f94a142d",
     "grade": true,
     "grade_id": "cell-de4cb52bee8c26d2",
     "locked": true,
     "points": 10,
     "schema_version": 3,
     "solution": false
    }
   },
   "outputs": [],
   "source": [
    "# 10 pts\n",
    "assert set(syracuse_2d.columns) == {'Longitude', 'pc1', 'pc2'}\n",
    "assert syracuse_2d.shape[0] == syracuse_streets.count()"
   ]
  },
  {
   "cell_type": "markdown",
   "id": "clean-exposure",
   "metadata": {},
   "source": [
    "The code below will plot the dataframe and color points by Longitude:"
   ]
  },
  {
   "cell_type": "code",
   "execution_count": 14,
   "id": "federal-arizona",
   "metadata": {
    "deletable": false,
    "editable": false,
    "nbgrader": {
     "cell_type": "code",
     "checksum": "1545a8d01b208b29c6857c5a7a2f2738",
     "grade": false,
     "grade_id": "cell-fabfab36095a4650",
     "locked": true,
     "schema_version": 3,
     "solution": false
    }
   },
   "outputs": [
    {
     "data": {
      "image/png": "[encoded data removed]",
      "text/plain": [
       "<Figure size 432x288 with 1 Axes>"
      ]
     },
     "metadata": {},
     "output_type": "display_data"
    }
   ],
   "source": [
    "import seaborn as sns\n",
    "sns.set_theme(style=\"darkgrid\")\n",
    "sns.scatterplot(data=syracuse_2d, x='pc1', y='pc2', hue='Longitude');"
   ]
  },
  {
   "cell_type": "markdown",
   "id": "regular-macedonia",
   "metadata": {
    "deletable": false,
    "editable": false,
    "nbgrader": {
     "cell_type": "markdown",
     "checksum": "5bbc102da3e69fd6a0ea8d518cdc77ed",
     "grade": false,
     "grade_id": "cell-20b1411f0d316c3c",
     "locked": true,
     "schema_version": 3,
     "solution": false
    }
   },
   "source": [
    "**(5 pts)**: Given the plot above, do you think the *loading* on Longitude is bigger in principal component 1 or principal component 2? Elaborate."
   ]
  },
  {
   "cell_type": "markdown",
   "id": "demographic-pepper",
   "metadata": {
    "deletable": false,
    "nbgrader": {
     "cell_type": "markdown",
     "checksum": "bd6a451cff93659ceb84543c4cab3889",
     "grade": true,
     "grade_id": "cell-58614723b59ebf64",
     "locked": false,
     "points": 5,
     "schema_version": 3,
     "solution": true
    }
   },
   "source": [
    "Given the plot above, I think the loading on Longitude is bigger in principal component 1 than principal component 2 because the Longitude data points are skewed more in that direction. "
   ]
  },
  {
   "cell_type": "markdown",
   "id": "manual-heather",
   "metadata": {},
   "source": [
    "## Question 2: (20 pts) More PCA\n",
    "\n",
    "In the previous section, we only limited our analysis to two principal components. However, it is unclear whether two dimensions capture enough of the data."
   ]
  },
  {
   "cell_type": "markdown",
   "id": "fifty-winter",
   "metadata": {},
   "source": [
    "In the following question, fit a new PCA analysis model, similar to that of Question 1, where you include all principal components (seven principal components because length of `feature_list` is 7). Call this PCA pipeline `pca_all`. You can reuse some of the components of the pipeline above"
   ]
  },
  {
   "cell_type": "code",
   "execution_count": 15,
   "id": "exposed-cleveland",
   "metadata": {
    "deletable": false,
    "nbgrader": {
     "cell_type": "code",
     "checksum": "9f4896d0f8f7b2de935096524cf0d04e",
     "grade": false,
     "grade_id": "cell-d630a86fb464d828",
     "locked": false,
     "schema_version": 3,
     "solution": true
    }
   },
   "outputs": [],
   "source": [
    "# create pipeline to produce principal components of data\n",
    "va = feature.VectorAssembler(inputCols=feature_list, outputCol='features') # Created VectorAssembler pipeline stage for converting features in feature_list to a single features vector\n",
    "ss = feature.StandardScaler(withMean=True, inputCol=\"features\", outputCol=\"scaledFeatures\") # Created StandardScaler pipeline stage for standarizing the features vector, output as scaledFeatures\n",
    "pca = feature.PCA(k=7, inputCol=\"scaledFeatures\", outputCol=\"pc\") # Projected scaledFeatures into seven principal components using a PCA pipeline stage\n",
    "pipe = Pipeline(stages=[va, ss, pca]) # Created pipeline estimator with va, ss, and pca stages\n",
    "pca_all = pipe.fit(syracuse_streets) # Fit pipeline to syracuse_streets dataset, assigned to pca_all"
   ]
  },
  {
   "cell_type": "markdown",
   "id": "found-april",
   "metadata": {},
   "source": [
    "Test your pipeline below"
   ]
  },
  {
   "cell_type": "code",
   "execution_count": 16,
   "id": "informational-wisdom",
   "metadata": {},
   "outputs": [
    {
     "name": "stdout",
     "output_type": "stream",
     "text": [
      "+--------------------+\n",
      "|        to_array(pc)|\n",
      "+--------------------+\n",
      "|[-1.7991028, 0.12...|\n",
      "|[-1.512599, -1.28...|\n",
      "|[-1.6656924, -0.6...|\n",
      "|[-1.7991028, 0.12...|\n",
      "|[-1.9718795, 0.64...|\n",
      "+--------------------+\n",
      "only showing top 5 rows\n",
      "\n"
     ]
    }
   ],
   "source": [
    "pca_all.transform(syracuse_streets).select(to_array('pc')).show(5)"
   ]
  },
  {
   "cell_type": "code",
   "execution_count": 17,
   "id": "auburn-female",
   "metadata": {
    "deletable": false,
    "editable": false,
    "nbgrader": {
     "cell_type": "code",
     "checksum": "48a0743735597ebc5a77f30d505711b8",
     "grade": true,
     "grade_id": "cell-0e39085b3cea032e",
     "locked": true,
     "points": 5,
     "schema_version": 3,
     "solution": false
    }
   },
   "outputs": [],
   "source": [
    "# 5 pts\n",
    "assert type(pca_all) == pipeline.PipelineModel\n",
    "assert type(pca_all.stages[-1]) == feature.PCAModel"
   ]
  },
  {
   "cell_type": "markdown",
   "id": "human-letter",
   "metadata": {},
   "source": [
    "In class, we saw that by definition the first principal component will have the most variance, the second principal component will have the second most variance, and so on. Let's define $s_i^2$ as the variance of principal component $i$ (where $i$ goes from 1 to $p$ principal components). Let's define the cumulative variance as \n",
    "$$\n",
    "c_i = \\sum_{k=1}^{i} s_k^2\n",
    "$$\n",
    "and cumulative percent of total variance as\n",
    "$$\n",
    "p_i = \\frac{c_i}{c_p}\n",
    "$$\n",
    "\n",
    "A genius of the highest caliber has defined the following quantity\n",
    "$$\n",
    "g_i = p_i (1-p_i)\n",
    "$$\n",
    "\n",
    "In the question below, you will be asked to find the optimal value $i$ such that $g_i$ is maximized. \n",
    "\n",
    "In Spark, you can access the percent of total variance for a component $i$\n",
    "$$\n",
    "\\frac{s_i^2}{c_p}\n",
    "$$\n",
    "\n",
    "in a PCA fitted model with the attribute `explainedVariance`. (hint: you can access the fitted model using the `stages` attribute of the fitted pipeline).\n",
    "\n",
    "Create a list or numpy array with each of the $g_i$ values and called it `gi` and store the optimal $g_i$ in `optimal_gi` variable. Also, store the values $p_i$ in a variable `pi`"
   ]
  },
  {
   "cell_type": "code",
   "execution_count": 18,
   "id": "laden-producer",
   "metadata": {
    "deletable": false,
    "nbgrader": {
     "cell_type": "code",
     "checksum": "93e111773ab0e60948e456eedddda100",
     "grade": false,
     "grade_id": "cell-5a34cac0cccdb755",
     "locked": false,
     "schema_version": 3,
     "solution": true
    }
   },
   "outputs": [
    {
     "name": "stdout",
     "output_type": "stream",
     "text": [
      "pi values: [0.29392242 0.5090816  0.69804576 0.80775073 0.88598753 0.95251323\n",
      " 1.        ]\n",
      "gi values: [0.20753203 0.24991752 0.21077788 0.15528949 0.10101363 0.04523178\n",
      " 0.        ]\n",
      "optimal_i: 2, optimal_gi: 0.24991752447577478\n"
     ]
    }
   ],
   "source": [
    "# create gi and optimal_gi\n",
    "variance = np.array(pca_all.stages[2].explainedVariance) # Created variance numpy array with the attribute explainedVariance from the pca stage of the pca_all pipeline\n",
    "pi = np.cumsum(variance) # Returned cumulative sum numpy array for percent of total variance, assigned to pi\n",
    "gi = [] # Created empty list for gi\n",
    "for value in pi: # For value in pi\n",
    "    gi.append(value*(1-value)) # Append value(1-value) to gi list\n",
    "gi = np.array(gi) # Convert gi list to numpy array\n",
    "optimal_i = np.argmax(gi, axis=0)+1 # Returned i for optimal gi\n",
    "optimal_gi = gi.max() # Returned optimal gi\n",
    "print(f'pi values: {pi}') # Printed pi array\n",
    "print(f'gi values: {gi}') # Printed gi array\n",
    "print(f'optimal_i: {optimal_i}, optimal_gi: {optimal_gi}') # Printed optimal i and optimal gi values"
   ]
  },
  {
   "attachments": {
    "image.png": {
     "image/png": "[encoded data removed]"
    }
   },
   "cell_type": "markdown",
   "id": "painted-degree",
   "metadata": {},
   "source": [
    "The cumulative percent of total variance should look like:\n",
    "\n",
    "![image.png](attachment:image.png)"
   ]
  },
  {
   "cell_type": "code",
   "execution_count": 19,
   "id": "wrong-cherry",
   "metadata": {},
   "outputs": [
    {
     "data": {
      "image/png": "[encoded data removed]",
      "text/plain": [
       "<Figure size 432x288 with 1 Axes>"
      ]
     },
     "metadata": {},
     "output_type": "display_data"
    }
   ],
   "source": [
    "# Visualize both\n",
    "plt.plot(range(1,8),pi);\n",
    "plt.plot(range(1,8),gi);\n",
    "plt.legend(['pi', 'gi']);\n",
    "plt.xlabel('Number of components');\n",
    "plt.ylabel('Percent of Total Variance');"
   ]
  },
  {
   "cell_type": "code",
   "execution_count": 20,
   "id": "breathing-symbol",
   "metadata": {
    "deletable": false,
    "editable": false,
    "nbgrader": {
     "cell_type": "code",
     "checksum": "27c2c0880380ee9130e9068a827dd9e4",
     "grade": true,
     "grade_id": "cell-7a96a0e4c458086e",
     "locked": true,
     "points": 15,
     "schema_version": 3,
     "solution": false
    }
   },
   "outputs": [],
   "source": [
    "# 15 pts\n",
    "assert len(pi) == 7\n",
    "assert len(gi) == 7\n",
    "# pi should be cumulative\n",
    "assert np.alltrue(np.diff(pi) >= 0)"
   ]
  }
 ],
 "metadata": {
  "kernelspec": {
   "display_name": "Python 3",
   "language": "python",
   "name": "python3"
  },
  "language_info": {
   "codemirror_mode": {
    "name": "ipython",
    "version": 3
   },
   "file_extension": ".py",
   "mimetype": "text/x-python",
   "name": "python",
   "nbconvert_exporter": "python",
   "pygments_lexer": "ipython3",
   "version": "3.8.6"
  }
 },
 "nbformat": 4,
 "nbformat_minor": 5
}
