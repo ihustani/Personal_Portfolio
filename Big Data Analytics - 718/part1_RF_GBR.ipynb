{
 "cells": [
  {
   "cell_type": "markdown",
   "metadata": {
    "nbgrader": {
     "checksum": "4e6cefb0049d48a2f4648d752841bb06",
     "grade": false,
     "grade_id": "cell-b038e38b5e3072a9",
     "locked": true,
     "schema_version": 1,
     "solution": false
    }
   },
   "source": [
    "# IST 718: Big Data Analytics\n",
    "\n",
    "- Professor: Daniel Acuna <deacuna@syr.edu>\n",
    "\n",
    "## General instructions:\n",
    "\n",
    "- You are welcome to discuss the problems with your classmates but __you are not allowed to copy any part of your answers either from your classmates or from the internet__\n",
    "- You can put the homework files anywhere you want in your http://jupyterhub.ischool.syr.edu/ workspace but _do not change_ the file names. The TAs and the professor use these names to grade your homework.\n",
    "- Remove or comment out code that contains `raise NotImplementedError`. This is mainly to make the `assert` statement fail if nothing is submitted.\n",
    "- The tests shown in some cells (i.e., `assert` and `np.testing.` statements) are used to grade your answers. **However, the professor and TAs will use __additional__ test for your answer. Think about cases where your code should run even if it passess all the tests you see.**\n",
    "- Before downloading and submitting your work through Blackboard, remember to save and press `Validate` (or go to \n",
    "`Kernel`$\\rightarrow$`Restart and Run All`). \n",
    "- Good luck!"
   ]
  },
  {
   "cell_type": "code",
   "execution_count": 1,
   "metadata": {},
   "outputs": [],
   "source": [
    "# load these packages\n",
    "import pyspark\n",
    "from pyspark.ml import feature, classification\n",
    "from pyspark.ml import Pipeline\n",
    "from pyspark.sql import functions as fn\n",
    "import numpy as np\n",
    "from pyspark.sql import SparkSession\n",
    "from pyspark.ml import feature, regression, evaluation, Pipeline\n",
    "from pyspark.sql import functions as fn, Row\n",
    "import matplotlib.pyplot as plt\n",
    "spark = SparkSession.builder.getOrCreate()\n",
    "sc = spark.sparkContext\n",
    "import pandas as pd"
   ]
  },
  {
   "cell_type": "markdown",
   "metadata": {},
   "source": [
    "# Part 1: Random Forest and gradient boosted trees"
   ]
  },
  {
   "cell_type": "markdown",
   "metadata": {},
   "source": [
    "In these questions, we will examine the famous [Auto dataset](https://vincentarelbundock.github.io/Rdatasets/doc/ISLR/Auto.html). With this dataset, the goal is to predict the miles per gallon (`mpg`) performance based on characteristics of the car such as number of cylinders (`cylinders`), displacement between wheels (`displacement`), horsepower of the engine (`horsepower`), weight of the car (`weight`), top acceleration (`acceleration`), year of the model (`year`), and origin (`origin`)."
   ]
  },
  {
   "cell_type": "code",
   "execution_count": 2,
   "metadata": {
    "nbgrader": {
     "checksum": "d835a01d8146fbfa5aed060dae16d9fb",
     "grade": false,
     "grade_id": "cell-219523fd6f45f014",
     "locked": true,
     "schema_version": 1,
     "solution": false
    }
   },
   "outputs": [
    {
     "name": "stdout",
     "output_type": "stream",
     "text": [
      "root\n",
      " |-- mpg: double (nullable = true)\n",
      " |-- cylinders: integer (nullable = true)\n",
      " |-- displacement: double (nullable = true)\n",
      " |-- weight: integer (nullable = true)\n",
      " |-- acceleration: double (nullable = true)\n",
      " |-- year: integer (nullable = true)\n",
      " |-- origin: integer (nullable = true)\n",
      " |-- name: string (nullable = true)\n",
      " |-- horsepower: integer (nullable = true)\n",
      "\n"
     ]
    }
   ],
   "source": [
    "# read-only\n",
    "mpg_df = spark.read.csv('Auto.csv', header=True, inferSchema=True).\\\n",
    "    drop('_c0').\\\n",
    "    withColumn('horsepower2', fn.col('horsepower').cast('int')).\\\n",
    "    drop('horsepower').\\\n",
    "    withColumnRenamed('horsepower2', 'horsepower').\\\n",
    "    dropna()\n",
    "training_df, validation_df, testing_df = mpg_df.randomSplit([0.6, 0.3, 0.1], seed=0)\n",
    "mpg_df.printSchema()"
   ]
  },
  {
   "cell_type": "markdown",
   "metadata": {},
   "source": [
    "# Question 1: (10 pts)\n",
    "\n",
    "Create three pipelines that contain three different random forests that take in all numeric features from `mpg_df` (`cylinders`, `displacement`, `horsepower`, `weight`, `acceleration`, `year`, and `origin`) to predict (`mpg`). **Set the `seed` parameter of the random forest to 0.** Fit these pipelines to the training data (`training_df`):\n",
    "\n",
    "- `pipe_rf1`: Random forest with `maxDepth=1` and `numTrees=60`\n",
    "- `pipe_rf2`: Random forest with `maxDepth=3` and `numTrees=40`\n",
    "- `pipe_rf3`: Random forest with `maxDepth=6`, `numTrees=20`"
   ]
  },
  {
   "cell_type": "code",
   "execution_count": 3,
   "metadata": {
    "deletable": false,
    "nbgrader": {
     "checksum": "2912f0aa0562283b8c2b9b8d330a9e8c",
     "grade": false,
     "grade_id": "cell-5d34f31b40350198",
     "locked": false,
     "schema_version": 1,
     "solution": true
    }
   },
   "outputs": [],
   "source": [
    "# create the fitted pipelines `pipe_rf1`, `pipe_rf2`, and `pipe_rf3` here\n",
    "va = feature.VectorAssembler(inputCols=['cylinders', 'displacement', 'horsepower', 'weight', 'acceleration', 'year', 'origin'], outputCol='features') # Created Vector Assembler stage for converting input features into a single feature vector as output\n",
    "rf1 = regression.RandomForestRegressor(labelCol='mpg', featuresCol='features', maxDepth=1, numTrees=60, seed=0) # Created RandomForestRegressor stage with maxDepth=1 and numTrees=60\n",
    "rf2 = regression.RandomForestRegressor(labelCol='mpg', featuresCol='features', maxDepth=3, numTrees=40, seed=0) # Created RandomForestRegressor stage with maxDepth=3 and numTrees=40\n",
    "rf3 = regression.RandomForestRegressor(labelCol='mpg', featuresCol='features', maxDepth=6, numTrees=20, seed=0) # Created RandomForestRegressor stage with maxDepth=6 and numTrees=20\n",
    "pipe1 = Pipeline(stages=[va, rf1]) # Created two stage pipeline with the vector assembler and first random forest\n",
    "pipe2 = Pipeline(stages=[va, rf2]) # Created two stage pipeline with the vector assembler and second random forest\n",
    "pipe3 = Pipeline(stages=[va, rf3]) # Created two stage pipeline with the vector assembler and third random forest\n",
    "pipe_rf1 = pipe1.fit(training_df) # Fit first pipeline to the training dataset\n",
    "pipe_rf2 = pipe2.fit(training_df) # Fit second pipeline to the training dataset\n",
    "pipe_rf3 = pipe3.fit(training_df) # Fit third pipeline to the training dataset"
   ]
  },
  {
   "cell_type": "code",
   "execution_count": 4,
   "metadata": {
    "deletable": false,
    "editable": false,
    "nbgrader": {
     "checksum": "ab0fe44d4fffc964b8d76f2d7cc0bc52",
     "grade": true,
     "grade_id": "cell-896bdef9bf893231",
     "locked": true,
     "points": 10,
     "schema_version": 1,
     "solution": false
    }
   },
   "outputs": [],
   "source": [
    "# tests for 10 pts\n",
    "np.testing.assert_equal(type(pipe_rf1.stages[0]), feature.VectorAssembler)\n",
    "np.testing.assert_equal(type(pipe_rf2.stages[0]), feature.VectorAssembler)\n",
    "np.testing.assert_equal(type(pipe_rf3.stages[0]), feature.VectorAssembler)\n",
    "np.testing.assert_equal(type(pipe_rf1.stages[1]), regression.RandomForestRegressionModel)\n",
    "np.testing.assert_equal(type(pipe_rf2.stages[1]), regression.RandomForestRegressionModel)\n",
    "np.testing.assert_equal(type(pipe_rf3.stages[1]), regression.RandomForestRegressionModel)\n",
    "np.testing.assert_equal(type(pipe_rf1.transform(training_df)), pyspark.sql.dataframe.DataFrame)\n",
    "np.testing.assert_equal(type(pipe_rf2.transform(training_df)), pyspark.sql.dataframe.DataFrame)\n",
    "np.testing.assert_equal(type(pipe_rf3.transform(training_df)), pyspark.sql.dataframe.DataFrame)"
   ]
  },
  {
   "cell_type": "markdown",
   "metadata": {},
   "source": [
    "# Question 2 (10 pts)\n",
    "\n",
    "Use the following evaluator to compute the $R^2$ of the models on validation data. Assign the $R^2$ of the three models to `R2_1`, `R2_2`, and `R2_3`, respectively, and the performance. Assign the best pipeline based on validation performance to a variable `best_model`"
   ]
  },
  {
   "cell_type": "code",
   "execution_count": 5,
   "metadata": {},
   "outputs": [],
   "source": [
    "evaluator = evaluation.RegressionEvaluator(labelCol='mpg', metricName='r2')\n",
    "# use it as follows:\n",
    "#   evaluator.evaluate(fitted_pipeline.transform(df)) -> R2"
   ]
  },
  {
   "cell_type": "code",
   "execution_count": 6,
   "metadata": {
    "deletable": false,
    "nbgrader": {
     "checksum": "05aa55bb93c8241e41bb5608503701cc",
     "grade": false,
     "grade_id": "cell-91cd57be67b86f2a",
     "locked": false,
     "schema_version": 1,
     "solution": true
    }
   },
   "outputs": [
    {
     "name": "stdout",
     "output_type": "stream",
     "text": [
      "Pipe 1: 0.6356640531609501, Pipe 2: 0.8222168008753123, Pipe 3: 0.8833324964226545\n"
     ]
    }
   ],
   "source": [
    "R2_1 = evaluator.evaluate(pipe_rf1.transform(validation_df)) # Used the defined evaluator to compute the R^2 of the first model on validation data\n",
    "R2_2 = evaluator.evaluate(pipe_rf2.transform(validation_df)) # Used the defined evaluator to compute the R^2 of the second model on validation data\n",
    "R2_3 = evaluator.evaluate(pipe_rf3.transform(validation_df)) # Used the defined evaluator to compute the R^2 of the third model on validation data\n",
    "print(f'Pipe 1: {R2_1}, Pipe 2: {R2_2}, Pipe 3: {R2_3}') # Returned R^2 value for all three models\n",
    "best_model = pipe_rf3 # Assigned the third model as the best model because it had the highest R^2 value"
   ]
  },
  {
   "cell_type": "code",
   "execution_count": 7,
   "metadata": {
    "deletable": false,
    "editable": false,
    "nbgrader": {
     "checksum": "f54b5ffaa1b173049912fcc6e5153295",
     "grade": true,
     "grade_id": "cell-5399ae6afb414351",
     "locked": true,
     "points": 10,
     "schema_version": 1,
     "solution": false
    }
   },
   "outputs": [],
   "source": [
    "# tests for 10 pts\n",
    "np.testing.assert_equal(type(best_model.stages[0]), feature.VectorAssembler)\n",
    "np.testing.assert_equal(type(best_model.stages[1]), regression.RandomForestRegressionModel)\n",
    "np.testing.assert_equal(type(best_model.transform(validation_df)), pyspark.sql.dataframe.DataFrame)\n",
    "np.testing.assert_array_less(R2_1, 1.)\n",
    "np.testing.assert_array_less(0.5, R2_1)\n",
    "np.testing.assert_array_less(R2_2, 1.)\n",
    "np.testing.assert_array_less(0.5, R2_2)\n",
    "np.testing.assert_array_less(R2_3, 1.)\n",
    "np.testing.assert_array_less(0.5, R2_3)"
   ]
  },
  {
   "cell_type": "markdown",
   "metadata": {},
   "source": [
    "# Question 3: 5 pts\n",
    "\n",
    "Compute the $R^2$ of the model on testing data, print it, and assign it to variable `R2_best`"
   ]
  },
  {
   "cell_type": "code",
   "execution_count": 8,
   "metadata": {
    "deletable": false,
    "nbgrader": {
     "checksum": "d024cc767cf9091d250f11c6c26fc729",
     "grade": false,
     "grade_id": "cell-86f5f0eaa917209f",
     "locked": false,
     "schema_version": 1,
     "solution": true
    }
   },
   "outputs": [
    {
     "name": "stdout",
     "output_type": "stream",
     "text": [
      "R2_best: 0.8116746291631238\n"
     ]
    }
   ],
   "source": [
    "# create AUC_best below\n",
    "R2_best = evaluator.evaluate(best_model.transform(testing_df)) # Used the defined evaluator to compute the R^2 of the best model on test data\n",
    "print(f'R2_best: {R2_best}') # Returned R^2 value"
   ]
  },
  {
   "cell_type": "code",
   "execution_count": 9,
   "metadata": {
    "deletable": false,
    "editable": false,
    "nbgrader": {
     "checksum": "be06b9c3fd35043998cada2e4c82af63",
     "grade": true,
     "grade_id": "cell-bd2f7d28b44ac691",
     "locked": true,
     "points": 5,
     "schema_version": 1,
     "solution": false
    }
   },
   "outputs": [],
   "source": [
    "# tests for 5 pts\n",
    "np.testing.assert_array_less(R2_best, 1.)\n",
    "np.testing.assert_array_less(0.5, R2_best)"
   ]
  },
  {
   "cell_type": "markdown",
   "metadata": {},
   "source": [
    "# Question 4: 5 pts\n",
    "\n",
    "Using the parameters of the best model, create a new pipeline called `final_model` and fit it to the entire data (`mpg_df`)"
   ]
  },
  {
   "cell_type": "code",
   "execution_count": 10,
   "metadata": {
    "deletable": false,
    "nbgrader": {
     "checksum": "f1e9753be63f387d37db812d4102e26c",
     "grade": false,
     "grade_id": "cell-2574a5ca8f12ce94",
     "locked": false,
     "schema_version": 1,
     "solution": true
    }
   },
   "outputs": [],
   "source": [
    "# create the fitted pipeline `final_model` here\n",
    "final_model = pipe3.fit(mpg_df) # Used the parameters of the best model to create a new pipeline called final_model fitted to the entire data"
   ]
  },
  {
   "cell_type": "code",
   "execution_count": 11,
   "metadata": {
    "deletable": false,
    "editable": false,
    "nbgrader": {
     "checksum": "10209c86da7aca0f6d99708efb051f44",
     "grade": true,
     "grade_id": "cell-bcce92747a0d2ba5",
     "locked": true,
     "points": 5,
     "schema_version": 1,
     "solution": false
    }
   },
   "outputs": [],
   "source": [
    "# tests for 10 pts\n",
    "np.testing.assert_equal(type(final_model.stages[0]), feature.VectorAssembler)\n",
    "np.testing.assert_equal(type(final_model.stages[1]), regression.RandomForestRegressionModel)\n",
    "np.testing.assert_equal(type(final_model.transform(mpg_df)), pyspark.sql.dataframe.DataFrame)"
   ]
  },
  {
   "cell_type": "markdown",
   "metadata": {},
   "source": [
    "# Question 5: 10 pts\n",
    "\n",
    "Create a pandas dataframe `feature_importance` with the columns `feature` and `importance` which contains the names of the features (`cylinder`, `displacement`, etc.) and their feature importances as determined by the random forest of the final model. Sort the dataframe by `importance` in descending order."
   ]
  },
  {
   "cell_type": "code",
   "execution_count": 12,
   "metadata": {
    "deletable": false,
    "nbgrader": {
     "checksum": "89dc0c52dff983147af006f48049dd3e",
     "grade": false,
     "grade_id": "cell-5b666b921af5a375",
     "locked": false,
     "schema_version": 1,
     "solution": true
    }
   },
   "outputs": [],
   "source": [
    "# create feature_importance below\n",
    "mpg_df_columns = ['cylinders', 'displacement', 'horsepower', 'weight', 'acceleration', 'year', 'origin'] # Defined column names for the features that were used in the model\n",
    "feature_importance = pd.DataFrame(list(zip(mpg_df_columns, final_model.stages[-1].featureImportances.toArray())), columns = ['feature', 'importance']).sort_values('importance', ascending=False) # Created pandas dataframe displaying feature importance for every independent feature that was used in the model"
   ]
  },
  {
   "cell_type": "code",
   "execution_count": 13,
   "metadata": {},
   "outputs": [
    {
     "data": {
      "text/html": [
       "<div>\n",
       "<style scoped>\n",
       "    .dataframe tbody tr th:only-of-type {\n",
       "        vertical-align: middle;\n",
       "    }\n",
       "\n",
       "    .dataframe tbody tr th {\n",
       "        vertical-align: top;\n",
       "    }\n",
       "\n",
       "    .dataframe thead th {\n",
       "        text-align: right;\n",
       "    }\n",
       "</style>\n",
       "<table border=\"1\" class=\"dataframe\">\n",
       "  <thead>\n",
       "    <tr style=\"text-align: right;\">\n",
       "      <th></th>\n",
       "      <th>feature</th>\n",
       "      <th>importance</th>\n",
       "    </tr>\n",
       "  </thead>\n",
       "  <tbody>\n",
       "    <tr>\n",
       "      <th>1</th>\n",
       "      <td>displacement</td>\n",
       "      <td>0.379758</td>\n",
       "    </tr>\n",
       "    <tr>\n",
       "      <th>2</th>\n",
       "      <td>horsepower</td>\n",
       "      <td>0.172883</td>\n",
       "    </tr>\n",
       "    <tr>\n",
       "      <th>3</th>\n",
       "      <td>weight</td>\n",
       "      <td>0.143796</td>\n",
       "    </tr>\n",
       "    <tr>\n",
       "      <th>0</th>\n",
       "      <td>cylinders</td>\n",
       "      <td>0.134298</td>\n",
       "    </tr>\n",
       "    <tr>\n",
       "      <th>5</th>\n",
       "      <td>year</td>\n",
       "      <td>0.133876</td>\n",
       "    </tr>\n",
       "    <tr>\n",
       "      <th>4</th>\n",
       "      <td>acceleration</td>\n",
       "      <td>0.024922</td>\n",
       "    </tr>\n",
       "    <tr>\n",
       "      <th>6</th>\n",
       "      <td>origin</td>\n",
       "      <td>0.010467</td>\n",
       "    </tr>\n",
       "  </tbody>\n",
       "</table>\n",
       "</div>"
      ],
      "text/plain": [
       "        feature  importance\n",
       "1  displacement    0.379758\n",
       "2    horsepower    0.172883\n",
       "3        weight    0.143796\n",
       "0     cylinders    0.134298\n",
       "5          year    0.133876\n",
       "4  acceleration    0.024922\n",
       "6        origin    0.010467"
      ]
     },
     "execution_count": 13,
     "metadata": {},
     "output_type": "execute_result"
    }
   ],
   "source": [
    "# display it here\n",
    "feature_importance # Returned pandas dataframe"
   ]
  },
  {
   "cell_type": "code",
   "execution_count": 14,
   "metadata": {
    "deletable": false,
    "editable": false,
    "nbgrader": {
     "checksum": "a174ad97cc20a8fe9385ded1a56597f7",
     "grade": true,
     "grade_id": "cell-de7873ad0b54f277",
     "locked": true,
     "points": 10,
     "schema_version": 1,
     "solution": false
    }
   },
   "outputs": [],
   "source": [
    "# tests for 10 pts\n",
    "assert type(feature_importance) == pd.core.frame.DataFrame\n",
    "np.testing.assert_array_equal(list(feature_importance.columns), ['feature', 'importance'])\n",
    "np.testing.assert_array_equal(list(feature_importance.columns), ['feature', 'importance'])"
   ]
  },
  {
   "cell_type": "markdown",
   "metadata": {},
   "source": [
    "**(5 pts)** Comment below on the importance that random forest has given to each feature. Are they reasonable? Do they tell you anything valuable about the mpg dataset? Answer in the cell below"
   ]
  },
  {
   "cell_type": "markdown",
   "metadata": {
    "deletable": false,
    "nbgrader": {
     "checksum": "b2c41f651112504fa5bc52db64459564",
     "grade": true,
     "grade_id": "cell-cd1eb09a9ba5aaa9",
     "locked": false,
     "points": 5,
     "schema_version": 1,
     "solution": true
    }
   },
   "source": [
    "I would comment that the importance that random forest has given to each feature is reasonable. From the algorithm, I am able to tell that displacement is very important in determining mpg, while the origin of the vehicle and its acceleration has less of a correlation. "
   ]
  },
  {
   "cell_type": "markdown",
   "metadata": {},
   "source": [
    "# Question 6:  5 pts.\n",
    "\n",
    "Pick any of the trees from the final model and assign its `toDebugString` property to a variable `example_tree`. Print this variable and add comments to the cell describing how you think this particular tree is fitting the data"
   ]
  },
  {
   "cell_type": "code",
   "execution_count": 15,
   "metadata": {
    "deletable": false,
    "nbgrader": {
     "checksum": "b212587e3d2f28ad35f04e2a6149e762",
     "grade": false,
     "grade_id": "cell-7476baa7ceb72c05",
     "locked": false,
     "schema_version": 1,
     "solution": true
    }
   },
   "outputs": [
    {
     "name": "stdout",
     "output_type": "stream",
     "text": [
      "DecisionTreeRegressionModel: uid=dtr_3e6afd3183a5, depth=6, numNodes=103, numFeatures=7\n",
      "  If (feature 5 <= 78.5)\n",
      "   If (feature 3 <= 2715.5)\n",
      "    If (feature 3 <= 2188.5)\n",
      "     If (feature 5 <= 73.5)\n",
      "      If (feature 3 <= 2115.0)\n",
      "       If (feature 1 <= 89.5)\n",
      "        Predict: 30.0\n",
      "       Else (feature 1 > 89.5)\n",
      "        Predict: 26.142857142857142\n",
      "      Else (feature 3 > 2115.0)\n",
      "       If (feature 4 <= 15.25)\n",
      "        Predict: 27.5\n",
      "       Else (feature 4 > 15.25)\n",
      "        Predict: 24.333333333333332\n",
      "     Else (feature 5 > 73.5)\n",
      "      If (feature 3 <= 2047.5)\n",
      "       If (feature 4 <= 16.45)\n",
      "        Predict: 28.8\n",
      "       Else (feature 4 > 16.45)\n",
      "        Predict: 32.78333333333333\n",
      "      Else (feature 3 > 2047.5)\n",
      "       If (feature 3 <= 2115.0)\n",
      "        Predict: 24.0\n",
      "       Else (feature 3 > 2115.0)\n",
      "        Predict: 29.1875\n",
      "    Else (feature 3 > 2188.5)\n",
      "     If (feature 5 <= 75.5)\n",
      "      If (feature 0 <= 4.5)\n",
      "       If (feature 4 <= 18.25)\n",
      "        Predict: 24.24\n",
      "       Else (feature 4 > 18.25)\n",
      "        Predict: 21.666666666666668\n",
      "      Else (feature 0 > 4.5)\n",
      "       If (feature 4 <= 13.1)\n",
      "        Predict: 19.0\n",
      "       Else (feature 4 > 13.1)\n",
      "        Predict: 21.0\n",
      "     Else (feature 5 > 75.5)\n",
      "      If (feature 2 <= 78.5)\n",
      "       If (feature 6 <= 2.5)\n",
      "        Predict: 30.633333333333336\n",
      "       Else (feature 6 > 2.5)\n",
      "        Predict: 26.0\n",
      "      Else (feature 2 > 78.5)\n",
      "       If (feature 2 <= 97.5)\n",
      "        Predict: 26.125\n",
      "       Else (feature 2 > 97.5)\n",
      "        Predict: 21.5\n",
      "   Else (feature 3 > 2715.5)\n",
      "    If (feature 2 <= 127.0)\n",
      "     If (feature 1 <= 212.5)\n",
      "      If (feature 5 <= 76.5)\n",
      "       If (feature 2 <= 82.5)\n",
      "        Predict: 24.0\n",
      "       Else (feature 2 > 82.5)\n",
      "        Predict: 18.884615384615383\n",
      "      Else (feature 5 > 76.5)\n",
      "       If (feature 1 <= 159.5)\n",
      "        Predict: 22.766666666666666\n",
      "       Else (feature 1 > 159.5)\n",
      "        Predict: 20.599999999999994\n",
      "     Else (feature 1 > 212.5)\n",
      "      If (feature 4 <= 15.45)\n",
      "       If (feature 1 <= 254.0)\n",
      "        Predict: 21.0\n",
      "       Else (feature 1 > 254.0)\n",
      "        Predict: 19.366666666666664\n",
      "      Else (feature 4 > 15.45)\n",
      "       If (feature 4 <= 15.55)\n",
      "        Predict: 16.0\n",
      "       Else (feature 4 > 15.55)\n",
      "        Predict: 18.45151515151515\n",
      "    Else (feature 2 > 127.0)\n",
      "     If (feature 2 <= 151.0)\n",
      "      If (feature 3 <= 3886.0)\n",
      "       If (feature 3 <= 3199.0)\n",
      "        Predict: 13.0\n",
      "       Else (feature 3 > 3199.0)\n",
      "        Predict: 17.375\n",
      "      Else (feature 3 > 3886.0)\n",
      "       If (feature 5 <= 76.5)\n",
      "        Predict: 14.166666666666666\n",
      "       Else (feature 5 > 76.5)\n",
      "        Predict: 16.333333333333332\n",
      "     Else (feature 2 > 151.0)\n",
      "      If (feature 5 <= 73.5)\n",
      "       If (feature 2 <= 177.5)\n",
      "        Predict: 13.631578947368421\n",
      "       Else (feature 2 > 177.5)\n",
      "        Predict: 12.0\n",
      "      Else (feature 5 > 73.5)\n",
      "       If (feature 4 <= 12.55)\n",
      "        Predict: 15.916666666666666\n",
      "       Else (feature 4 > 12.55)\n",
      "        Predict: 17.700000000000003\n",
      "  Else (feature 5 > 78.5)\n",
      "   If (feature 3 <= 2520.0)\n",
      "    If (feature 4 <= 17.55)\n",
      "     If (feature 1 <= 79.5)\n",
      "      Predict: 39.1\n",
      "     Else (feature 1 > 79.5)\n",
      "      If (feature 4 <= 17.05)\n",
      "       If (feature 1 <= 126.0)\n",
      "        Predict: 33.800000000000004\n",
      "       Else (feature 1 > 126.0)\n",
      "        Predict: 30.480000000000018\n",
      "      Else (feature 4 > 17.05)\n",
      "       If (feature 5 <= 81.5)\n",
      "        Predict: 37.7\n",
      "       Else (feature 5 > 81.5)\n",
      "        Predict: 36.0\n",
      "    Else (feature 4 > 17.55)\n",
      "     If (feature 6 <= 1.5)\n",
      "      Predict: 34.0\n",
      "     Else (feature 6 > 1.5)\n",
      "      If (feature 3 <= 1982.5)\n",
      "       If (feature 2 <= 63.5)\n",
      "        Predict: 38.1\n",
      "       Else (feature 2 > 63.5)\n",
      "        Predict: 36.99999999999999\n",
      "      Else (feature 3 > 1982.5)\n",
      "       If (feature 4 <= 17.95)\n",
      "        Predict: 46.6\n",
      "       Else (feature 4 > 17.95)\n",
      "        Predict: 43.85000000000001\n",
      "   Else (feature 3 > 2520.0)\n",
      "    If (feature 3 <= 3280.0)\n",
      "     If (feature 6 <= 1.5)\n",
      "      If (feature 3 <= 2803.5)\n",
      "       If (feature 4 <= 18.75)\n",
      "        Predict: 26.7\n",
      "       Else (feature 4 > 18.75)\n",
      "        Predict: 29.500000000000014\n",
      "      Else (feature 3 > 2803.5)\n",
      "       If (feature 1 <= 241.0)\n",
      "        Predict: 22.7\n",
      "       Else (feature 1 > 241.0)\n",
      "        Predict: 38.0\n",
      "     Else (feature 6 > 1.5)\n",
      "      If (feature 0 <= 4.5)\n",
      "       If (feature 5 <= 79.5)\n",
      "        Predict: 27.2\n",
      "       Else (feature 5 > 79.5)\n",
      "        Predict: 29.2\n",
      "      Else (feature 0 > 4.5)\n",
      "       If (feature 4 <= 11.45)\n",
      "        Predict: 32.7\n",
      "       Else (feature 4 > 11.45)\n",
      "        Predict: 30.700000000000003\n",
      "    Else (feature 3 > 3280.0)\n",
      "     If (feature 4 <= 15.45)\n",
      "      Predict: 17.112500000000004\n",
      "     Else (feature 4 > 15.45)\n",
      "      Predict: 23.0\n",
      "\n"
     ]
    }
   ],
   "source": [
    "# create a variable example_tree with the toDebugString property of a tree from final_model.\n",
    "# print this string and comment in this same cell about the branches that this tree fit\n",
    "example_tree = final_model.stages[-1].trees[4].toDebugString # Created example tree using the toDebugString property\n",
    "print(example_tree) # Printed Tree\n",
    "# The root node for this tree makes a decision based on the year the car was from, \n",
    "# it then makes a decision based on weight, followed by weight again, year again, weight again, \n",
    "# and finally displacement where a final decision is made at the leaf node for the first branch.\n",
    "# It makes sense that displacement would be making the final decision based on the \n",
    "# feature importance that was returned."
   ]
  },
  {
   "cell_type": "code",
   "execution_count": 16,
   "metadata": {
    "deletable": false,
    "editable": false,
    "nbgrader": {
     "checksum": "9f35c194d03338e1a9e24d771fb28c2e",
     "grade": true,
     "grade_id": "cell-80c89e10a60f6ce2",
     "locked": true,
     "points": 5,
     "schema_version": 1,
     "solution": false
    }
   },
   "outputs": [],
   "source": [
    "# tests for 5 points\n",
    "assert type(example_tree) == str\n",
    "assert 'DecisionTreeRegressionModel' in example_tree\n",
    "assert 'feature 0' in example_tree\n",
    "assert 'If' in example_tree\n",
    "assert 'Else' in example_tree\n",
    "assert 'Predict' in example_tree"
   ]
  },
  {
   "cell_type": "markdown",
   "metadata": {},
   "source": [
    "# **Question 7 (5 pts)**\n",
    "\n",
    "Gradient boosted trees are becoming increasingly popular for competitions. There is a high-performance implementation, [xgboost](https://en.wikipedia.org/wiki/XGBoost), that is particularly popular. Compare gradient boosted regression to the best model found with random forest in Question 3. Use the validation set. For GBR, use all the default parameters except make `seed=0`. Assign the pipeline and the $R^2$ of the model to `gbr_pipe` and `R2_gbr`, respectively. Does it have an amazing or dissapointing $R^2$? Comment."
   ]
  },
  {
   "cell_type": "code",
   "execution_count": 17,
   "metadata": {
    "deletable": false,
    "nbgrader": {
     "checksum": "d399ce658c943b8f572a428367c1725e",
     "grade": false,
     "grade_id": "cell-edab7ea019e8b267",
     "locked": false,
     "schema_version": 1,
     "solution": true
    }
   },
   "outputs": [],
   "source": [
    "gb = regression.GBTRegressor(labelCol='mpg', featuresCol='features', seed=0) # Created GBTRegressor stage using 'mpg' as the label column and 'features' and the features column\n",
    "pipe = Pipeline(stages=[va, gb]) # Created two stage pipeline with the vector assembler and gradient booster\n",
    "gbr_pipe = pipe.fit(training_df) # Fit the defined pipeline to the training data\n",
    "R2_gbr = evaluator.evaluate(gbr_pipe.transform(validation_df)) # Used the defined evaluator to compute the R^2 of the gradient boosted model on validation data"
   ]
  },
  {
   "cell_type": "code",
   "execution_count": 18,
   "metadata": {},
   "outputs": [
    {
     "name": "stdout",
     "output_type": "stream",
     "text": [
      "Performance of best RF:  0.8833324964226545\n",
      "Performance of GBR:  0.8404903251080562\n"
     ]
    }
   ],
   "source": [
    "# test your models here\n",
    "print(\"Performance of best RF: \", evaluator.evaluate(best_model.transform(validation_df))) # Returned the best random forest model performance\n",
    "print(\"Performance of GBR: \", R2_gbr) # Returned the gradient boosted model performance\n",
    "# The performance of GBR seemed to be relatively dissapointing. It had a lower AUC than the performance of the best RF, but I did not adjust any of the model parameters. Perhaps if I did, it would be another story."
   ]
  },
  {
   "cell_type": "code",
   "execution_count": 19,
   "metadata": {
    "deletable": false,
    "editable": false,
    "nbgrader": {
     "checksum": "7636ddf552f508aaa5952350f9b0a210",
     "grade": true,
     "grade_id": "cell-f7b1ed961851c406",
     "locked": true,
     "points": 5,
     "schema_version": 1,
     "solution": false
    }
   },
   "outputs": [],
   "source": [
    "# tests for 5 pts\n",
    "np.testing.assert_equal(type(gbr_pipe.stages[0]), feature.VectorAssembler)\n",
    "np.testing.assert_equal(type(gbr_pipe.stages[1]), regression.GBTRegressionModel)\n",
    "np.testing.assert_equal(type(gbr_pipe.transform(validation_df)), pyspark.sql.dataframe.DataFrame)\n",
    "np.testing.assert_array_less(R2_gbr, 1.)\n",
    "np.testing.assert_array_less(0.5, R2_gbr)"
   ]
  }
 ],
 "metadata": {
  "kernelspec": {
   "display_name": "Python 3",
   "language": "python",
   "name": "python3"
  },
  "language_info": {
   "codemirror_mode": {
    "name": "ipython",
    "version": 3
   },
   "file_extension": ".py",
   "mimetype": "text/x-python",
   "name": "python",
   "nbconvert_exporter": "python",
   "pygments_lexer": "ipython3",
   "version": "3.8.6"
  }
 },
 "nbformat": 4,
 "nbformat_minor": 2
}
