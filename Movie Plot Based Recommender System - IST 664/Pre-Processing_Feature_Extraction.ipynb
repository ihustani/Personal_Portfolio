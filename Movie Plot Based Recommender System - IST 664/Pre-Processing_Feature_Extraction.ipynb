{
 "cells": [
  {
   "cell_type": "code",
   "execution_count": 1,
   "metadata": {},
   "outputs": [],
   "source": [
    "import json \n",
    "import nltk\n",
    "import csv\n",
    "import matplotlib.pyplot as plt\n",
    "import pandas as pd"
   ]
  },
  {
   "cell_type": "code",
   "execution_count": 2,
   "metadata": {},
   "outputs": [],
   "source": [
    "df1 = pd.read_csv('data.csv')"
   ]
  },
  {
   "cell_type": "code",
   "execution_count": 3,
   "metadata": {},
   "outputs": [],
   "source": [
    "df2 = pd.read_csv('mpst_full_data.csv')"
   ]
  },
  {
   "cell_type": "code",
   "execution_count": 4,
   "metadata": {},
   "outputs": [],
   "source": [
    "df3 = pd.read_csv('wiki_movie_plots_deduped.csv')"
   ]
  },
  {
   "cell_type": "code",
   "execution_count": 5,
   "metadata": {},
   "outputs": [
    {
     "data": {
      "text/html": [
       "<div>\n",
       "<style scoped>\n",
       "    .dataframe tbody tr th:only-of-type {\n",
       "        vertical-align: middle;\n",
       "    }\n",
       "\n",
       "    .dataframe tbody tr th {\n",
       "        vertical-align: top;\n",
       "    }\n",
       "\n",
       "    .dataframe thead th {\n",
       "        text-align: right;\n",
       "    }\n",
       "</style>\n",
       "<table border=\"1\" class=\"dataframe\">\n",
       "  <thead>\n",
       "    <tr style=\"text-align: right;\">\n",
       "      <th></th>\n",
       "      <th>titles</th>\n",
       "      <th>summary</th>\n",
       "      <th>genre</th>\n",
       "      <th>year</th>\n",
       "    </tr>\n",
       "  </thead>\n",
       "  <tbody>\n",
       "    <tr>\n",
       "      <td>0</td>\n",
       "      <td>The Shawshank Redemption</td>\n",
       "      <td>Two imprisoned men bond over a number of years...</td>\n",
       "      <td>Drama</td>\n",
       "      <td>1994</td>\n",
       "    </tr>\n",
       "    <tr>\n",
       "      <td>1</td>\n",
       "      <td>The Godfather</td>\n",
       "      <td>The aging patriarch of an organized crime dyna...</td>\n",
       "      <td>Crime, Drama</td>\n",
       "      <td>1972</td>\n",
       "    </tr>\n",
       "    <tr>\n",
       "      <td>2</td>\n",
       "      <td>Wheels</td>\n",
       "      <td>Two suicidal paraplegic junkies hustle their w...</td>\n",
       "      <td>Drama</td>\n",
       "      <td>2014</td>\n",
       "    </tr>\n",
       "    <tr>\n",
       "      <td>3</td>\n",
       "      <td>The Dark Knight</td>\n",
       "      <td>When the menace known as the Joker wreaks havo...</td>\n",
       "      <td>Action, Crime, Drama</td>\n",
       "      <td>2008</td>\n",
       "    </tr>\n",
       "    <tr>\n",
       "      <td>4</td>\n",
       "      <td>The Godfather: Part II</td>\n",
       "      <td>The early life and career of Vito Corleone in ...</td>\n",
       "      <td>Crime, Drama</td>\n",
       "      <td>1974</td>\n",
       "    </tr>\n",
       "  </tbody>\n",
       "</table>\n",
       "</div>"
      ],
      "text/plain": [
       "                     titles  \\\n",
       "0  The Shawshank Redemption   \n",
       "1             The Godfather   \n",
       "2                    Wheels   \n",
       "3           The Dark Knight   \n",
       "4    The Godfather: Part II   \n",
       "\n",
       "                                             summary                 genre  \\\n",
       "0  Two imprisoned men bond over a number of years...                 Drama   \n",
       "1  The aging patriarch of an organized crime dyna...          Crime, Drama   \n",
       "2  Two suicidal paraplegic junkies hustle their w...                 Drama   \n",
       "3  When the menace known as the Joker wreaks havo...  Action, Crime, Drama   \n",
       "4  The early life and career of Vito Corleone in ...          Crime, Drama   \n",
       "\n",
       "   year  \n",
       "0  1994  \n",
       "1  1972  \n",
       "2  2014  \n",
       "3  2008  \n",
       "4  1974  "
      ]
     },
     "execution_count": 5,
     "metadata": {},
     "output_type": "execute_result"
    }
   ],
   "source": [
    "df1.head()"
   ]
  },
  {
   "cell_type": "code",
   "execution_count": 6,
   "metadata": {},
   "outputs": [
    {
     "data": {
      "text/html": [
       "<div>\n",
       "<style scoped>\n",
       "    .dataframe tbody tr th:only-of-type {\n",
       "        vertical-align: middle;\n",
       "    }\n",
       "\n",
       "    .dataframe tbody tr th {\n",
       "        vertical-align: top;\n",
       "    }\n",
       "\n",
       "    .dataframe thead th {\n",
       "        text-align: right;\n",
       "    }\n",
       "</style>\n",
       "<table border=\"1\" class=\"dataframe\">\n",
       "  <thead>\n",
       "    <tr style=\"text-align: right;\">\n",
       "      <th></th>\n",
       "      <th>imdb_id</th>\n",
       "      <th>title</th>\n",
       "      <th>plot_synopsis</th>\n",
       "      <th>tags</th>\n",
       "      <th>split</th>\n",
       "      <th>synopsis_source</th>\n",
       "    </tr>\n",
       "  </thead>\n",
       "  <tbody>\n",
       "    <tr>\n",
       "      <td>0</td>\n",
       "      <td>tt0057603</td>\n",
       "      <td>I tre volti della paura</td>\n",
       "      <td>Note: this synopsis is for the orginal Italian...</td>\n",
       "      <td>cult, horror, gothic, murder, atmospheric</td>\n",
       "      <td>train</td>\n",
       "      <td>imdb</td>\n",
       "    </tr>\n",
       "    <tr>\n",
       "      <td>1</td>\n",
       "      <td>tt1733125</td>\n",
       "      <td>Dungeons &amp; Dragons: The Book of Vile Darkness</td>\n",
       "      <td>Two thousand years ago, Nhagruul the Foul, a s...</td>\n",
       "      <td>violence</td>\n",
       "      <td>train</td>\n",
       "      <td>imdb</td>\n",
       "    </tr>\n",
       "    <tr>\n",
       "      <td>2</td>\n",
       "      <td>tt0033045</td>\n",
       "      <td>The Shop Around the Corner</td>\n",
       "      <td>Matuschek's, a gift store in Budapest, is the ...</td>\n",
       "      <td>romantic</td>\n",
       "      <td>test</td>\n",
       "      <td>imdb</td>\n",
       "    </tr>\n",
       "    <tr>\n",
       "      <td>3</td>\n",
       "      <td>tt0113862</td>\n",
       "      <td>Mr. Holland's Opus</td>\n",
       "      <td>Glenn Holland, not a morning person by anyone'...</td>\n",
       "      <td>inspiring, romantic, stupid, feel-good</td>\n",
       "      <td>train</td>\n",
       "      <td>imdb</td>\n",
       "    </tr>\n",
       "    <tr>\n",
       "      <td>4</td>\n",
       "      <td>tt0086250</td>\n",
       "      <td>Scarface</td>\n",
       "      <td>In May 1980, a Cuban man named Tony Montana (A...</td>\n",
       "      <td>cruelty, murder, dramatic, cult, violence, atm...</td>\n",
       "      <td>val</td>\n",
       "      <td>imdb</td>\n",
       "    </tr>\n",
       "  </tbody>\n",
       "</table>\n",
       "</div>"
      ],
      "text/plain": [
       "     imdb_id                                          title  \\\n",
       "0  tt0057603                        I tre volti della paura   \n",
       "1  tt1733125  Dungeons & Dragons: The Book of Vile Darkness   \n",
       "2  tt0033045                     The Shop Around the Corner   \n",
       "3  tt0113862                             Mr. Holland's Opus   \n",
       "4  tt0086250                                       Scarface   \n",
       "\n",
       "                                       plot_synopsis  \\\n",
       "0  Note: this synopsis is for the orginal Italian...   \n",
       "1  Two thousand years ago, Nhagruul the Foul, a s...   \n",
       "2  Matuschek's, a gift store in Budapest, is the ...   \n",
       "3  Glenn Holland, not a morning person by anyone'...   \n",
       "4  In May 1980, a Cuban man named Tony Montana (A...   \n",
       "\n",
       "                                                tags  split synopsis_source  \n",
       "0          cult, horror, gothic, murder, atmospheric  train            imdb  \n",
       "1                                           violence  train            imdb  \n",
       "2                                           romantic   test            imdb  \n",
       "3             inspiring, romantic, stupid, feel-good  train            imdb  \n",
       "4  cruelty, murder, dramatic, cult, violence, atm...    val            imdb  "
      ]
     },
     "execution_count": 6,
     "metadata": {},
     "output_type": "execute_result"
    }
   ],
   "source": [
    "df2.head()"
   ]
  },
  {
   "cell_type": "code",
   "execution_count": 7,
   "metadata": {
    "scrolled": true
   },
   "outputs": [
    {
     "data": {
      "text/html": [
       "<div>\n",
       "<style scoped>\n",
       "    .dataframe tbody tr th:only-of-type {\n",
       "        vertical-align: middle;\n",
       "    }\n",
       "\n",
       "    .dataframe tbody tr th {\n",
       "        vertical-align: top;\n",
       "    }\n",
       "\n",
       "    .dataframe thead th {\n",
       "        text-align: right;\n",
       "    }\n",
       "</style>\n",
       "<table border=\"1\" class=\"dataframe\">\n",
       "  <thead>\n",
       "    <tr style=\"text-align: right;\">\n",
       "      <th></th>\n",
       "      <th>Release Year</th>\n",
       "      <th>Title</th>\n",
       "      <th>Origin/Ethnicity</th>\n",
       "      <th>Director</th>\n",
       "      <th>Cast</th>\n",
       "      <th>Genre</th>\n",
       "      <th>Wiki Page</th>\n",
       "      <th>Plot</th>\n",
       "    </tr>\n",
       "  </thead>\n",
       "  <tbody>\n",
       "    <tr>\n",
       "      <td>0</td>\n",
       "      <td>1901</td>\n",
       "      <td>Kansas Saloon Smashers</td>\n",
       "      <td>American</td>\n",
       "      <td>Unknown</td>\n",
       "      <td>NaN</td>\n",
       "      <td>unknown</td>\n",
       "      <td>https://en.wikipedia.org/wiki/Kansas_Saloon_Sm...</td>\n",
       "      <td>A bartender is working at a saloon, serving dr...</td>\n",
       "    </tr>\n",
       "    <tr>\n",
       "      <td>1</td>\n",
       "      <td>1901</td>\n",
       "      <td>Love by the Light of the Moon</td>\n",
       "      <td>American</td>\n",
       "      <td>Unknown</td>\n",
       "      <td>NaN</td>\n",
       "      <td>unknown</td>\n",
       "      <td>https://en.wikipedia.org/wiki/Love_by_the_Ligh...</td>\n",
       "      <td>The moon, painted with a smiling face hangs ov...</td>\n",
       "    </tr>\n",
       "    <tr>\n",
       "      <td>2</td>\n",
       "      <td>1901</td>\n",
       "      <td>The Martyred Presidents</td>\n",
       "      <td>American</td>\n",
       "      <td>Unknown</td>\n",
       "      <td>NaN</td>\n",
       "      <td>unknown</td>\n",
       "      <td>https://en.wikipedia.org/wiki/The_Martyred_Pre...</td>\n",
       "      <td>The film, just over a minute long, is composed...</td>\n",
       "    </tr>\n",
       "    <tr>\n",
       "      <td>3</td>\n",
       "      <td>1901</td>\n",
       "      <td>Terrible Teddy, the Grizzly King</td>\n",
       "      <td>American</td>\n",
       "      <td>Unknown</td>\n",
       "      <td>NaN</td>\n",
       "      <td>unknown</td>\n",
       "      <td>https://en.wikipedia.org/wiki/Terrible_Teddy,_...</td>\n",
       "      <td>Lasting just 61 seconds and consisting of two ...</td>\n",
       "    </tr>\n",
       "    <tr>\n",
       "      <td>4</td>\n",
       "      <td>1902</td>\n",
       "      <td>Jack and the Beanstalk</td>\n",
       "      <td>American</td>\n",
       "      <td>George S. Fleming, Edwin S. Porter</td>\n",
       "      <td>NaN</td>\n",
       "      <td>unknown</td>\n",
       "      <td>https://en.wikipedia.org/wiki/Jack_and_the_Bea...</td>\n",
       "      <td>The earliest known adaptation of the classic f...</td>\n",
       "    </tr>\n",
       "  </tbody>\n",
       "</table>\n",
       "</div>"
      ],
      "text/plain": [
       "   Release Year                             Title Origin/Ethnicity  \\\n",
       "0          1901            Kansas Saloon Smashers         American   \n",
       "1          1901     Love by the Light of the Moon         American   \n",
       "2          1901           The Martyred Presidents         American   \n",
       "3          1901  Terrible Teddy, the Grizzly King         American   \n",
       "4          1902            Jack and the Beanstalk         American   \n",
       "\n",
       "                             Director Cast    Genre  \\\n",
       "0                             Unknown  NaN  unknown   \n",
       "1                             Unknown  NaN  unknown   \n",
       "2                             Unknown  NaN  unknown   \n",
       "3                             Unknown  NaN  unknown   \n",
       "4  George S. Fleming, Edwin S. Porter  NaN  unknown   \n",
       "\n",
       "                                           Wiki Page  \\\n",
       "0  https://en.wikipedia.org/wiki/Kansas_Saloon_Sm...   \n",
       "1  https://en.wikipedia.org/wiki/Love_by_the_Ligh...   \n",
       "2  https://en.wikipedia.org/wiki/The_Martyred_Pre...   \n",
       "3  https://en.wikipedia.org/wiki/Terrible_Teddy,_...   \n",
       "4  https://en.wikipedia.org/wiki/Jack_and_the_Bea...   \n",
       "\n",
       "                                                Plot  \n",
       "0  A bartender is working at a saloon, serving dr...  \n",
       "1  The moon, painted with a smiling face hangs ov...  \n",
       "2  The film, just over a minute long, is composed...  \n",
       "3  Lasting just 61 seconds and consisting of two ...  \n",
       "4  The earliest known adaptation of the classic f...  "
      ]
     },
     "execution_count": 7,
     "metadata": {},
     "output_type": "execute_result"
    }
   ],
   "source": [
    "df3.head()"
   ]
  },
  {
   "cell_type": "code",
   "execution_count": 11,
   "metadata": {},
   "outputs": [],
   "source": [
    "df4 = df3.copy(deep=True)"
   ]
  },
  {
   "cell_type": "code",
   "execution_count": 12,
   "metadata": {},
   "outputs": [],
   "source": [
    "df5 = df3.copy(deep=False)"
   ]
  },
  {
   "cell_type": "code",
   "execution_count": 18,
   "metadata": {
    "scrolled": true
   },
   "outputs": [
    {
     "name": "stdout",
     "output_type": "stream",
     "text": [
      "1:  A bartender is working at a saloon, serving drinks to customers. After he fills a stereotypically Irish man's bucket with beer, Carrie Nation and her followers burst inside. They assault the Irish man, pulling his hat over his eyes and then dumping the beer over his head. The group then begin wrecking the bar, smashing the fixtures, mirrors, and breaking the cash register. The bartender then sprays seltzer water in Nation's face before a group of policemen appear and order everybody to leave.[1]\n",
      "1:  The moon, painted with a smiling face hangs over a park at night. A young couple walking past a fence learn on a railing and look up. The moon smiles. They embrace, and the moon's smile gets bigger. They then sit down on a bench by a tree. The moon's view is blocked, causing him to frown. In the last scene, the man fans the woman with his hat because the moon has left the sky and is perched over her shoulder to see everything better.\n",
      "1:  The film, just over a minute long, is composed of two shots. In the first, a girl sits at the base of an altar or tomb, her face hidden from the camera. At the center of the altar, a viewing portal displays the portraits of three U.S. Presidents—Abraham Lincoln, James A. Garfield, and William McKinley—each victims of assassination.\r\n",
      "In the second shot, which runs just over eight seconds long, an assassin kneels feet of Lady Justice.\n",
      "1:  Lasting just 61 seconds and consisting of two shots, the first shot is set in a wood during winter. The actor representing then vice-president Theodore Roosevelt enthusiastically hurries down a hillside towards a tree in the foreground. He falls once, but rights himself and cocks his rifle. Two other men, bearing signs reading \"His Photographer\" and \"His Press Agent\" respectively, follow him into the shot; the photographer sets up his camera. \"Teddy\" aims his rifle upward at the tree and fells what appears to be a common house cat, which he then proceeds to stab. \"Teddy\" holds his prize aloft, and the press agent takes notes. The second shot is taken in a slightly different part of the wood, on a path. \"Teddy\" rides the path on his horse towards the camera and out to the left of the shot, followed closely by the press agent and photographer, still dutifully holding their signs.\n",
      "1:  The earliest known adaptation of the classic fairytale, this films shows Jack trading his cow for the beans, his mother forcing him to drop them in the front yard, and beig forced upstairs. As he sleeps, Jack is visited by a fairy who shows him glimpses of what will await him when he ascends the bean stalk. In this version, Jack is the son of a deposed king. When Jack wakes up, he finds the beanstalk has grown and he climbs to the top where he enters the giant's home. The giant finds Jack, who narrowly escapes. The giant chases Jack down the bean stalk, but Jack is able to cut it down before the giant can get to safety. He falls and is killed as Jack celebrates. The fairy then reveals that Jack may return home as a prince.\n",
      "1:  Alice follows a large white rabbit down a \"Rabbit-hole\". She finds a tiny door. When she finds a bottle labeled \"Drink me\", she does, and shrinks, but not enough to pass through the door. She then eats something labeled \"Eat me\" and grows larger. She finds a fan when enables her to shrink enough to get into the \"Garden\" and try to get a \"Dog\" to play with her. She enters the \"White Rabbit's tiny House,\" but suddenly resumes her normal size. In order to get out, she has to use the \"magic fan.\"\r\n",
      "She enters a kitchen, in which there is a cook and a woman holding a baby. She persuades the woman to give her the child and takes the infant outside after the cook starts throwing things around. The baby then turns into a pig and squirms out of her grip. \"The Duchess's Cheshire Cat\" appears and disappears a couple of times to Alice and directs her to the Mad Hatter's \"Mad Tea-Party.\" After a while, she leaves.\r\n",
      "The Queen invites Alice to join the \"ROYAL PROCESSION\": a parade of marching playing cards and others headed by the White Rabbit. When Alice \"unintentionally offends the Queen\", the latter summons the \"Executioner\". Alice \"boxes the ears\", then flees when all the playing cards come for her. Then she wakes up and realizes it was all a dream.\n",
      "1:  The film opens with two bandits breaking into a railroad telegraph office, where they force the operator at gunpoint to have a train stopped and to transmit orders for the engineer to fill the locomotive's tender at the station's water tank. They then knock the operator out and tie him up. As the train stops it is boarded by the bandits‍—‌now four. Two bandits enter an express car, kill a messenger and open a box of valuables with dynamite; the others kill the fireman and force the engineer to halt the train and disconnect the locomotive. The bandits then force the passengers off the train and rifle them for their belongings. One passenger tries to escape but is instantly shot down. Carrying their loot, the bandits escape in the locomotive, later stopping in a valley where their horses had been left.\r\n",
      "Meanwhile, back in the telegraph office, the bound operator awakens, but he collapses again. His daughter arrives bringing him his meal and cuts him free, and restores him to consciousness by dousing him with water.\r\n",
      "There is some comic relief at a dance hall, where an Eastern stranger is forced to dance while the locals fire at his feet. The door suddenly opens and the telegraph operator rushes in to tell them of the robbery. The men quickly form a posse, which overtakes the bandits, and in a final shootout kills them all and recovers the stolen mail.\n"
     ]
    }
   ],
   "source": [
    "i =0\n",
    "for index,row in df4.iterrows():\n",
    "    print(\"1: \",row[7])\n",
    "    if i> 5:\n",
    "        break\n",
    "    i=i+1"
   ]
  },
  {
   "cell_type": "code",
   "execution_count": 19,
   "metadata": {},
   "outputs": [
    {
     "name": "stdout",
     "output_type": "stream",
     "text": [
      "Release Year                                                     1901\n",
      "Title                                          Kansas Saloon Smashers\n",
      "Origin/Ethnicity                                             American\n",
      "Director                                                      Unknown\n",
      "Cast                                                              NaN\n",
      "Genre                                                         unknown\n",
      "Wiki Page           https://en.wikipedia.org/wiki/Kansas_Saloon_Sm...\n",
      "Plot                A bartender is working at a saloon, serving dr...\n",
      "Name: 0, dtype: object\n"
     ]
    }
   ],
   "source": [
    "print(df4.loc[0])"
   ]
  },
  {
   "cell_type": "code",
   "execution_count": 20,
   "metadata": {},
   "outputs": [
    {
     "name": "stdout",
     "output_type": "stream",
     "text": [
      "Index(['titles', 'summary', 'genre', 'year'], dtype='object')\n",
      "Index(['Release Year', 'Title', 'Origin/Ethnicity', 'Director', 'Cast',\n",
      "       'Genre', 'Wiki Page', 'Plot'],\n",
      "      dtype='object')\n"
     ]
    }
   ],
   "source": [
    "print (df1.columns)\n",
    "print(df4.columns)"
   ]
  },
  {
   "cell_type": "code",
   "execution_count": 21,
   "metadata": {},
   "outputs": [
    {
     "name": "stdout",
     "output_type": "stream",
     "text": [
      "       Release Year               Title Origin/Ethnicity       Director  \\\n",
      "12508          1995  Mr. Holland's Opus         American  Stephen Herek   \n",
      "\n",
      "                                                    Cast  Genre  \\\n",
      "12508  Richard Dreyfuss, Glenne Headly, Jay Thomas, O...  drama   \n",
      "\n",
      "                                               Wiki Page  \\\n",
      "12508  https://en.wikipedia.org/wiki/Mr._Holland%27s_...   \n",
      "\n",
      "                                                    Plot  \n",
      "12508  In Portland, Oregon in 1965, Glenn Holland is ...  \n"
     ]
    }
   ],
   "source": [
    "ele = df4[df4['Title'].str.match(\"Mr. Holland's Opus\" , case=False)]\n",
    "print(ele)"
   ]
  },
  {
   "cell_type": "code",
   "execution_count": 22,
   "metadata": {},
   "outputs": [
    {
     "name": "stdout",
     "output_type": "stream",
     "text": [
      "3377\n",
      "71\n"
     ]
    }
   ],
   "source": [
    "print(len(ele['Plot'].values[0]))\n",
    "print(len((df1.loc[df1['titles'] == \"Mr. Holland's Opus\"])['summary'].values[0]))"
   ]
  },
  {
   "cell_type": "code",
   "execution_count": 23,
   "metadata": {},
   "outputs": [
    {
     "name": "stdout",
     "output_type": "stream",
     "text": [
      "The Shawshank Redemption\n"
     ]
    }
   ],
   "source": [
    "t = df1.loc[0,'titles']\n",
    "print(t)"
   ]
  },
  {
   "cell_type": "code",
   "execution_count": 24,
   "metadata": {},
   "outputs": [
    {
     "name": "stdout",
     "output_type": "stream",
     "text": [
      "34886\n",
      "Index(['titles', 'summary', 'genre', 'year'], dtype='object')\n",
      "Index(['Release Year', 'Title', 'Origin/Ethnicity', 'Director', 'Cast',\n",
      "       'Genre', 'Wiki Page', 'Plot'],\n",
      "      dtype='object')\n"
     ]
    }
   ],
   "source": [
    "print(len(df4.index))\n",
    "print (df1.columns)\n",
    "print(df4.columns)"
   ]
  },
  {
   "cell_type": "code",
   "execution_count": 25,
   "metadata": {},
   "outputs": [
    {
     "name": "stdout",
     "output_type": "stream",
     "text": [
      "American\n"
     ]
    }
   ],
   "source": [
    "print(df4['Origin/Ethnicity'][0])"
   ]
  },
  {
   "cell_type": "code",
   "execution_count": 26,
   "metadata": {},
   "outputs": [
    {
     "name": "stdout",
     "output_type": "stream",
     "text": [
      "[('American', 17377), ('British', 3670), ('Bollywood', 2931), ('Tamil', 2599), ('Telugu', 1311), ('Japanese', 1188), ('Malayalam', 1095), ('Hong Kong', 791), ('Canadian', 723), ('Australian', 576), ('South_Korean', 522), ('Chinese', 463), ('Kannada', 444), ('Bengali', 306), ('Russian', 232), ('Marathi', 141), ('Filipino', 128), ('Bangladeshi', 87), ('Punjabi', 84), ('Malaysian', 70), ('Turkish', 70), ('Egyptian', 67), ('Assamese', 9), ('Maldivian', 2)]\n"
     ]
    }
   ],
   "source": [
    "# origin = df['Origin/Ethnicity']\n",
    "origins = nltk.FreqDist(df4['Origin/Ethnicity'])\n",
    "origins_freq = origins.most_common()\n",
    "print(origins_freq)"
   ]
  },
  {
   "cell_type": "code",
   "execution_count": 42,
   "metadata": {},
   "outputs": [],
   "source": [
    "# filtering the dataset using the by origin ( American and british)\n",
    "df4 = df4.loc[df4['Origin/Ethnicity'].isin(['American','British']) ]"
   ]
  },
  {
   "cell_type": "code",
   "execution_count": 43,
   "metadata": {},
   "outputs": [
    {
     "data": {
      "text/html": [
       "<div>\n",
       "<style scoped>\n",
       "    .dataframe tbody tr th:only-of-type {\n",
       "        vertical-align: middle;\n",
       "    }\n",
       "\n",
       "    .dataframe tbody tr th {\n",
       "        vertical-align: top;\n",
       "    }\n",
       "\n",
       "    .dataframe thead th {\n",
       "        text-align: right;\n",
       "    }\n",
       "</style>\n",
       "<table border=\"1\" class=\"dataframe\">\n",
       "  <thead>\n",
       "    <tr style=\"text-align: right;\">\n",
       "      <th></th>\n",
       "      <th>Release Year</th>\n",
       "      <th>Title</th>\n",
       "      <th>Origin/Ethnicity</th>\n",
       "      <th>Director</th>\n",
       "      <th>Cast</th>\n",
       "      <th>Genre</th>\n",
       "      <th>Wiki Page</th>\n",
       "      <th>Plot</th>\n",
       "    </tr>\n",
       "  </thead>\n",
       "  <tbody>\n",
       "    <tr>\n",
       "      <td>0</td>\n",
       "      <td>1901</td>\n",
       "      <td>Kansas Saloon Smashers</td>\n",
       "      <td>American</td>\n",
       "      <td>Unknown</td>\n",
       "      <td>NaN</td>\n",
       "      <td>unknown</td>\n",
       "      <td>https://en.wikipedia.org/wiki/Kansas_Saloon_Sm...</td>\n",
       "      <td>A bartender is working at a saloon, serving dr...</td>\n",
       "    </tr>\n",
       "    <tr>\n",
       "      <td>1</td>\n",
       "      <td>1901</td>\n",
       "      <td>Love by the Light of the Moon</td>\n",
       "      <td>American</td>\n",
       "      <td>Unknown</td>\n",
       "      <td>NaN</td>\n",
       "      <td>unknown</td>\n",
       "      <td>https://en.wikipedia.org/wiki/Love_by_the_Ligh...</td>\n",
       "      <td>The moon, painted with a smiling face hangs ov...</td>\n",
       "    </tr>\n",
       "    <tr>\n",
       "      <td>2</td>\n",
       "      <td>1901</td>\n",
       "      <td>The Martyred Presidents</td>\n",
       "      <td>American</td>\n",
       "      <td>Unknown</td>\n",
       "      <td>NaN</td>\n",
       "      <td>unknown</td>\n",
       "      <td>https://en.wikipedia.org/wiki/The_Martyred_Pre...</td>\n",
       "      <td>The film, just over a minute long, is composed...</td>\n",
       "    </tr>\n",
       "    <tr>\n",
       "      <td>3</td>\n",
       "      <td>1901</td>\n",
       "      <td>Terrible Teddy, the Grizzly King</td>\n",
       "      <td>American</td>\n",
       "      <td>Unknown</td>\n",
       "      <td>NaN</td>\n",
       "      <td>unknown</td>\n",
       "      <td>https://en.wikipedia.org/wiki/Terrible_Teddy,_...</td>\n",
       "      <td>Lasting just 61 seconds and consisting of two ...</td>\n",
       "    </tr>\n",
       "    <tr>\n",
       "      <td>4</td>\n",
       "      <td>1902</td>\n",
       "      <td>Jack and the Beanstalk</td>\n",
       "      <td>American</td>\n",
       "      <td>George S. Fleming, Edwin S. Porter</td>\n",
       "      <td>NaN</td>\n",
       "      <td>unknown</td>\n",
       "      <td>https://en.wikipedia.org/wiki/Jack_and_the_Bea...</td>\n",
       "      <td>The earliest known adaptation of the classic f...</td>\n",
       "    </tr>\n",
       "  </tbody>\n",
       "</table>\n",
       "</div>"
      ],
      "text/plain": [
       "   Release Year                             Title Origin/Ethnicity  \\\n",
       "0          1901            Kansas Saloon Smashers         American   \n",
       "1          1901     Love by the Light of the Moon         American   \n",
       "2          1901           The Martyred Presidents         American   \n",
       "3          1901  Terrible Teddy, the Grizzly King         American   \n",
       "4          1902            Jack and the Beanstalk         American   \n",
       "\n",
       "                             Director Cast    Genre  \\\n",
       "0                             Unknown  NaN  unknown   \n",
       "1                             Unknown  NaN  unknown   \n",
       "2                             Unknown  NaN  unknown   \n",
       "3                             Unknown  NaN  unknown   \n",
       "4  George S. Fleming, Edwin S. Porter  NaN  unknown   \n",
       "\n",
       "                                           Wiki Page  \\\n",
       "0  https://en.wikipedia.org/wiki/Kansas_Saloon_Sm...   \n",
       "1  https://en.wikipedia.org/wiki/Love_by_the_Ligh...   \n",
       "2  https://en.wikipedia.org/wiki/The_Martyred_Pre...   \n",
       "3  https://en.wikipedia.org/wiki/Terrible_Teddy,_...   \n",
       "4  https://en.wikipedia.org/wiki/Jack_and_the_Bea...   \n",
       "\n",
       "                                                Plot  \n",
       "0  A bartender is working at a saloon, serving dr...  \n",
       "1  The moon, painted with a smiling face hangs ov...  \n",
       "2  The film, just over a minute long, is composed...  \n",
       "3  Lasting just 61 seconds and consisting of two ...  \n",
       "4  The earliest known adaptation of the classic f...  "
      ]
     },
     "execution_count": 43,
     "metadata": {},
     "output_type": "execute_result"
    }
   ],
   "source": [
    "df4.head()"
   ]
  },
  {
   "cell_type": "code",
   "execution_count": 44,
   "metadata": {},
   "outputs": [],
   "source": [
    "df4 = df4.sort_values(by = 'Title')"
   ]
  },
  {
   "cell_type": "code",
   "execution_count": 30,
   "metadata": {},
   "outputs": [
    {
     "name": "stdout",
     "output_type": "stream",
     "text": [
      " (500) Days of Summer\n"
     ]
    }
   ],
   "source": [
    "print(df4.iloc[0]['Title'])"
   ]
  },
  {
   "cell_type": "code",
   "execution_count": 45,
   "metadata": {},
   "outputs": [],
   "source": [
    "# seraching for titles with same name and same release year to remove the movies with lower length of plot summary\n",
    "index_drop = []\n",
    "prev = 0\n",
    "for i in range(1,len(df4)):\n",
    "    if (df4.iloc[prev]['Title'] == df4.iloc[i]['Title'] ) and  (df4.iloc[prev]['Release Year'] == df4.iloc[i]['Release Year']):\n",
    "        if len(df4.iloc[prev]['Plot']) >  len(df4.iloc[i]['Plot']) :\n",
    "            index_drop.append(i)\n",
    "        else:\n",
    "            index_drop.append(prev)\n",
    "            prev = i\n",
    "    else:\n",
    "        prev = i"
   ]
  },
  {
   "cell_type": "code",
   "execution_count": 46,
   "metadata": {},
   "outputs": [
    {
     "name": "stdout",
     "output_type": "stream",
     "text": [
      "108\n",
      "[264, 307, 362, 553, 615, 725, 860, 1102, 1141, 1541, 1675, 1873, 1978, 2083, 2163, 2268, 2644, 2682, 3171, 3390, 3945, 3965, 4202, 5207, 5246, 5264, 5488, 5568, 5675, 6047, 6079, 6166, 6410, 6466, 6529, 6600, 6657, 6722, 7602, 7753, 7830, 7869, 7883, 8321, 8426, 8464, 8491, 8536, 8904, 9386, 9429, 9471, 9658, 9917, 10072, 10089, 10275, 10332, 10503, 10626, 10709, 10757, 10970, 11013, 11182, 11381, 11559, 11725, 12300, 12734, 13089, 13258, 13899, 13926, 14111, 14331, 15594, 15651, 16080, 16245, 16257, 16536, 16648, 16871, 17194, 17573, 17777, 17940, 18023, 18144, 18605, 18722, 18830, 18871, 19115, 19301, 19658, 19690, 19787, 19977, 19984, 20116, 20221, 20364, 20701, 20794, 20868, 20870]\n"
     ]
    }
   ],
   "source": [
    "print(len(index_drop))\n",
    "print(index_drop)"
   ]
  },
  {
   "cell_type": "code",
   "execution_count": 48,
   "metadata": {},
   "outputs": [
    {
     "name": "stdout",
     "output_type": "stream",
     "text": [
      "21047\n"
     ]
    }
   ],
   "source": [
    "print(len(df4))"
   ]
  },
  {
   "cell_type": "code",
   "execution_count": 49,
   "metadata": {},
   "outputs": [],
   "source": [
    "df4.drop(df4.index[index_drop], inplace=True)"
   ]
  },
  {
   "cell_type": "code",
   "execution_count": 50,
   "metadata": {},
   "outputs": [
    {
     "data": {
      "text/plain": [
       "20939"
      ]
     },
     "execution_count": 50,
     "metadata": {},
     "output_type": "execute_result"
    }
   ],
   "source": [
    "len(df4)"
   ]
  },
  {
   "cell_type": "code",
   "execution_count": 51,
   "metadata": {},
   "outputs": [
    {
     "name": "stdout",
     "output_type": "stream",
     "text": [
      "[('Anna Karenina', 6), ('Cinderella', 6), ('The Three Musketeers', 6), ('Treasure Island', 6), ('Alice in Wonderland', 5), (\"Brewster's Millions\", 5), ('Dr. Jekyll and Mr. Hyde', 5), ('Kidnapped', 5), ('Madame X', 5), ('A Christmas Carol', 4), ('Bad Company', 4), ('Blind Date', 4), ('Carrie', 4), ('Cleopatra', 4), ('Dressed to Kill', 4), ('Forbidden', 4), ('Jigsaw', 4), ('No Escape', 4), ('Oliver Twist', 4), ('Robin Hood', 4), ('Running Scared', 4), ('The Jazz Singer', 4), ('The Mummy', 4), ('The Outsider', 4), ('The Prisoner of Zenda', 4), ('The Raven', 4), ('A Shot in the Dark', 3), ('Angel', 3), ('Annie', 3), ('Arizona', 3), ('Back Street', 3), ('Batman', 3), ('Beauty and the Beast', 3), ('Black Beauty', 3), ('Blackmail', 3), ('Branded', 3), ('Camille', 3), ('Captain America', 3), ('Catacombs', 3), ('Contraband', 3), ('Crossed Swords', 3), ('Crossroads', 3), ('Deadfall', 3), ('Dracula', 3), ('Escape', 3), ('Far from the Madding Crowd', 3), ('Fast Company', 3), ('Fast and Loose', 3), ('Fever Pitch', 3), ('Framed', 3), ('Great Expectations', 3), ('Hamlet', 3), ('Heat', 3), ('Hercules', 3), ('Hide and Seek', 3), ('Hindle Wakes', 3), ('Honeymoon', 3), ('Inferno', 3), ('Inside Out', 3), ('Iron Man', 3), ('It', 3), ('Jane Eyre', 3), ('Just My Luck', 3), ('King Kong', 3), (\"King Solomon's Mines\", 3), ('Kismet', 3), ('Little Women', 3), ('Love Affair', 3), ('Miracle on 34th Street', 3), ('Neighbors', 3), ('Night Watch', 3), ('Nightmare', 3), ('Of Human Bondage', 3), ('Peter Pan', 3), ('Prometheus', 3), ('Quartet', 3), ('Rage', 3), ('Rampage', 3), ('Reckless', 3), ('Revenge', 3), ('Sahara', 3), ('Scrooge', 3), ('Seven Sinners', 3), ('Shakedown', 3), ('She', 3), ('Sherlock Holmes', 3), ('Show Boat', 3), ('Surrender', 3), (\"That's My Boy\", 3), ('The Age of Innocence', 3), ('The Battle of the Sexes', 3), ('The Call of the Wild', 3), ('The Cat and the Canary', 3), ('The Chase', 3), ('The Crimson Circle', 3), ('The Hunchback of Notre Dame', 3), ('The Hunted', 3), ('The Last of the Mohicans', 3), ('The Other Woman', 3), ('The Patriot', 3)]\n"
     ]
    }
   ],
   "source": [
    "# origin = df['Origin/Ethnicity']\n",
    "titles = nltk.FreqDist(df4['Title'])\n",
    "titles_freq = titles.most_common(100)\n",
    "print(titles_freq)"
   ]
  },
  {
   "cell_type": "code",
   "execution_count": 52,
   "metadata": {},
   "outputs": [
    {
     "name": "stdout",
     "output_type": "stream",
     "text": [
      "20939\n",
      "Index(['titles', 'summary', 'genre', 'year'], dtype='object')\n",
      "Index(['Release Year', 'Title', 'Origin/Ethnicity', 'Director', 'Cast',\n",
      "       'Genre', 'Wiki Page', 'Plot'],\n",
      "      dtype='object')\n"
     ]
    }
   ],
   "source": [
    "print(len(df4.index))\n",
    "print (df1.columns)\n",
    "print(df4.columns)"
   ]
  },
  {
   "cell_type": "code",
   "execution_count": 53,
   "metadata": {},
   "outputs": [],
   "source": [
    "# checking for dataset in dataset 1 exists in dataset 3\n",
    "data1_col = list(df1.columns)\n",
    "titles = []\n",
    "titles_higher_info = []\n",
    "for row in range (0,len(df1.index)):\n",
    "    title = df1.loc[row,data1_col[0]]\n",
    "    ele = df4.loc[df4['Title'].str.lower() == title.lower()]\n",
    "    if ele.empty :\n",
    "        df4.loc[len(df4.index)] = [df1.loc[row,data1_col[3]],title,'','','','','',df1.loc[row,data1_col[1]]]\n",
    "        titles.append(title)\n",
    "    elif len(ele['Plot'].values[0]) < len(df1.loc[row,data1_col[1]]):\n",
    "        titles_higher_info.append(title)"
   ]
  },
  {
   "cell_type": "code",
   "execution_count": 54,
   "metadata": {},
   "outputs": [
    {
     "name": "stdout",
     "output_type": "stream",
     "text": [
      "824\n",
      "13\n"
     ]
    }
   ],
   "source": [
    "print(len(titles))\n",
    "print(len(titles_higher_info))"
   ]
  },
  {
   "cell_type": "code",
   "execution_count": 57,
   "metadata": {},
   "outputs": [],
   "source": [
    "df_final = pd.read_csv('movies_plot_combined.csv')"
   ]
  },
  {
   "cell_type": "code",
   "execution_count": 60,
   "metadata": {},
   "outputs": [
    {
     "name": "stdout",
     "output_type": "stream",
     "text": [
      "35667\n"
     ]
    },
    {
     "data": {
      "text/html": [
       "<div>\n",
       "<style scoped>\n",
       "    .dataframe tbody tr th:only-of-type {\n",
       "        vertical-align: middle;\n",
       "    }\n",
       "\n",
       "    .dataframe tbody tr th {\n",
       "        vertical-align: top;\n",
       "    }\n",
       "\n",
       "    .dataframe thead th {\n",
       "        text-align: right;\n",
       "    }\n",
       "</style>\n",
       "<table border=\"1\" class=\"dataframe\">\n",
       "  <thead>\n",
       "    <tr style=\"text-align: right;\">\n",
       "      <th></th>\n",
       "      <th>Release Year</th>\n",
       "      <th>Title</th>\n",
       "      <th>Origin/Ethnicity</th>\n",
       "      <th>Director</th>\n",
       "      <th>Cast</th>\n",
       "      <th>Genre</th>\n",
       "      <th>Wiki Page</th>\n",
       "      <th>Plot</th>\n",
       "    </tr>\n",
       "  </thead>\n",
       "  <tbody>\n",
       "    <tr>\n",
       "      <td>0</td>\n",
       "      <td>1901</td>\n",
       "      <td>Kansas Saloon Smashers</td>\n",
       "      <td>American</td>\n",
       "      <td>Unknown</td>\n",
       "      <td>NaN</td>\n",
       "      <td>unknown</td>\n",
       "      <td>https://en.wikipedia.org/wiki/Kansas_Saloon_Sm...</td>\n",
       "      <td>A bartender is working at a saloon, serving dr...</td>\n",
       "    </tr>\n",
       "    <tr>\n",
       "      <td>1</td>\n",
       "      <td>1901</td>\n",
       "      <td>Love by the Light of the Moon</td>\n",
       "      <td>American</td>\n",
       "      <td>Unknown</td>\n",
       "      <td>NaN</td>\n",
       "      <td>unknown</td>\n",
       "      <td>https://en.wikipedia.org/wiki/Love_by_the_Ligh...</td>\n",
       "      <td>The moon, painted with a smiling face hangs ov...</td>\n",
       "    </tr>\n",
       "    <tr>\n",
       "      <td>2</td>\n",
       "      <td>1901</td>\n",
       "      <td>The Martyred Presidents</td>\n",
       "      <td>American</td>\n",
       "      <td>Unknown</td>\n",
       "      <td>NaN</td>\n",
       "      <td>unknown</td>\n",
       "      <td>https://en.wikipedia.org/wiki/The_Martyred_Pre...</td>\n",
       "      <td>The film, just over a minute long, is composed...</td>\n",
       "    </tr>\n",
       "    <tr>\n",
       "      <td>3</td>\n",
       "      <td>1901</td>\n",
       "      <td>Terrible Teddy, the Grizzly King</td>\n",
       "      <td>American</td>\n",
       "      <td>Unknown</td>\n",
       "      <td>NaN</td>\n",
       "      <td>unknown</td>\n",
       "      <td>https://en.wikipedia.org/wiki/Terrible_Teddy,_...</td>\n",
       "      <td>Lasting just 61 seconds and consisting of two ...</td>\n",
       "    </tr>\n",
       "    <tr>\n",
       "      <td>4</td>\n",
       "      <td>1902</td>\n",
       "      <td>Jack and the Beanstalk</td>\n",
       "      <td>American</td>\n",
       "      <td>George S. Fleming, Edwin S. Porter</td>\n",
       "      <td>NaN</td>\n",
       "      <td>unknown</td>\n",
       "      <td>https://en.wikipedia.org/wiki/Jack_and_the_Bea...</td>\n",
       "      <td>The earliest known adaptation of the classic f...</td>\n",
       "    </tr>\n",
       "  </tbody>\n",
       "</table>\n",
       "</div>"
      ],
      "text/plain": [
       "   Release Year                             Title Origin/Ethnicity  \\\n",
       "0          1901            Kansas Saloon Smashers         American   \n",
       "1          1901     Love by the Light of the Moon         American   \n",
       "2          1901           The Martyred Presidents         American   \n",
       "3          1901  Terrible Teddy, the Grizzly King         American   \n",
       "4          1902            Jack and the Beanstalk         American   \n",
       "\n",
       "                             Director Cast    Genre  \\\n",
       "0                             Unknown  NaN  unknown   \n",
       "1                             Unknown  NaN  unknown   \n",
       "2                             Unknown  NaN  unknown   \n",
       "3                             Unknown  NaN  unknown   \n",
       "4  George S. Fleming, Edwin S. Porter  NaN  unknown   \n",
       "\n",
       "                                           Wiki Page  \\\n",
       "0  https://en.wikipedia.org/wiki/Kansas_Saloon_Sm...   \n",
       "1  https://en.wikipedia.org/wiki/Love_by_the_Ligh...   \n",
       "2  https://en.wikipedia.org/wiki/The_Martyred_Pre...   \n",
       "3  https://en.wikipedia.org/wiki/Terrible_Teddy,_...   \n",
       "4  https://en.wikipedia.org/wiki/Jack_and_the_Bea...   \n",
       "\n",
       "                                                Plot  \n",
       "0  A bartender is working at a saloon, serving dr...  \n",
       "1  The moon, painted with a smiling face hangs ov...  \n",
       "2  The film, just over a minute long, is composed...  \n",
       "3  Lasting just 61 seconds and consisting of two ...  \n",
       "4  The earliest known adaptation of the classic f...  "
      ]
     },
     "execution_count": 60,
     "metadata": {},
     "output_type": "execute_result"
    }
   ],
   "source": [
    "print(len(df_final))\n",
    "df_final.head()"
   ]
  },
  {
   "cell_type": "code",
   "execution_count": 65,
   "metadata": {},
   "outputs": [],
   "source": [
    "df_final = df_final.sort_values(by = 'Title')"
   ]
  },
  {
   "cell_type": "code",
   "execution_count": 66,
   "metadata": {},
   "outputs": [],
   "source": [
    "# seraching for titles with same name and same release year to remove the movies with lower length of plot summary\n",
    "index_drop = []\n",
    "prev = 0\n",
    "for i in range(1,len(df_final)):\n",
    "    if (df_final.iloc[prev]['Title'] == df_final.iloc[i]['Title'] ) and  (df_final.iloc[prev]['Release Year'] == df_final.iloc[i]['Release Year']):\n",
    "        if len(df_final.iloc[prev]['Plot']) >  len(df_final.iloc[i]['Plot']) :\n",
    "            index_drop.append(i)\n",
    "        else:\n",
    "            index_drop.append(prev)\n",
    "            prev = i\n",
    "    else:\n",
    "        prev = i"
   ]
  },
  {
   "cell_type": "code",
   "execution_count": 67,
   "metadata": {},
   "outputs": [
    {
     "name": "stdout",
     "output_type": "stream",
     "text": [
      "255\n",
      "[368, 378, 380, 381, 386, 399, 398, 401, 407, 406, 416, 424, 455, 478, 491, 495, 504, 510, 592, 672, 715, 785, 839, 898, 969, 1101, 1395, 1463, 1539, 1543, 1878, 2059, 2115, 2127, 2314, 2604, 2850, 2996, 3274, 3280, 3321, 3328, 3342, 3370, 3486, 3692, 3756, 3910, 3919, 4056, 4151, 4157, 4232, 4280, 4441, 4452, 4737, 5019, 5062, 5142, 5149, 5330, 5385, 5713, 5910, 5911, 5923, 6155, 6273, 6292, 6473, 6877, 7022, 7199, 7390, 7603, 7969, 8197, 8333, 8390, 8411, 8718, 8734, 9036, 9262, 9329, 9383, 9409, 9597, 9751, 9859, 9990, 10002, 10453, 10461, 10704, 10747, 11017, 11155, 11274, 11278, 11361, 11528, 11592, 11625, 11667, 11744, 11790, 11801, 12153, 12326, 12713, 13023, 13256, 13404, 13463, 13487, 13604, 13788, 13986, 14059, 14132, 14260, 14369, 14725, 14799, 14871, 15101, 15164, 15207, 15217, 15265, 15383, 15438, 15462, 15912, 16035, 16092, 16147, 16550, 16779, 16892, 16899, 16949, 16961, 16985, 17053, 17133, 17530, 17599, 17828, 18009, 18034, 18301, 18321, 18617, 18688, 18782, 19042, 19291, 19300, 19404, 19518, 19680, 19746, 19816, 19917, 19919, 20075, 20150, 20439, 20454, 20505, 20981, 21311, 21696, 21861, 21899, 21910, 22313, 22366, 22408, 22431, 22459, 22486, 22609, 22757, 22881, 23049, 23171, 23639, 23690, 23842, 24448, 24729, 24781, 24832, 25111, 25209, 25360, 25489, 25704, 25742, 25769, 26058, 26078, 26463, 26542, 26687, 28125, 28514, 28609, 28723, 28913, 28927, 29264, 29390, 29659, 29996, 30020, 30173, 30454, 30689, 30884, 30987, 31120, 31814, 31940, 31993, 32080, 32115, 32277, 32587, 32749, 33002, 33074, 33110, 33304, 33636, 33644, 33715, 33881, 34140, 34185, 34186, 34223, 34378, 34468, 34581, 34984, 35105, 35199, 35201, 35279, 35651]\n"
     ]
    }
   ],
   "source": [
    "print(len(index_drop))\n",
    "print(index_drop)"
   ]
  },
  {
   "cell_type": "code",
   "execution_count": 68,
   "metadata": {},
   "outputs": [
    {
     "data": {
      "text/plain": [
       "35667"
      ]
     },
     "execution_count": 68,
     "metadata": {},
     "output_type": "execute_result"
    }
   ],
   "source": [
    "len(df_final)"
   ]
  },
  {
   "cell_type": "code",
   "execution_count": 70,
   "metadata": {},
   "outputs": [],
   "source": [
    "df_final.drop(df_final.index[index_drop], inplace=True)"
   ]
  },
  {
   "cell_type": "code",
   "execution_count": 71,
   "metadata": {},
   "outputs": [
    {
     "data": {
      "text/plain": [
       "35412"
      ]
     },
     "execution_count": 71,
     "metadata": {},
     "output_type": "execute_result"
    }
   ],
   "source": [
    "len(df_final)"
   ]
  },
  {
   "cell_type": "code",
   "execution_count": 72,
   "metadata": {},
   "outputs": [],
   "source": [
    "# filtering the dataset using the by origin ( American and british)\n",
    "df_final = df_final.loc[df_final['Origin/Ethnicity'].isin(['American','British']) ]"
   ]
  },
  {
   "cell_type": "code",
   "execution_count": 73,
   "metadata": {},
   "outputs": [
    {
     "data": {
      "text/plain": [
       "20916"
      ]
     },
     "execution_count": 73,
     "metadata": {},
     "output_type": "execute_result"
    }
   ],
   "source": [
    "len(df_final)"
   ]
  },
  {
   "cell_type": "code",
   "execution_count": 74,
   "metadata": {},
   "outputs": [],
   "source": [
    "df_final.to_csv(\"Filtered_movies_plots.csv\", encoding='utf-8', index=False)"
   ]
  },
  {
   "cell_type": "code",
   "execution_count": 75,
   "metadata": {},
   "outputs": [],
   "source": [
    "#nltk.download('vader_lexicon')\n",
    "from nltk.sentiment.vader import SentimentIntensityAnalyzer"
   ]
  },
  {
   "cell_type": "code",
   "execution_count": 79,
   "metadata": {},
   "outputs": [
    {
     "name": "stdout",
     "output_type": "stream",
     "text": [
      "Index(['Release Year', 'Title', 'Origin/Ethnicity', 'Director', 'Cast',\n",
      "       'Genre', 'Wiki Page', 'Plot'],\n",
      "      dtype='object')\n"
     ]
    }
   ],
   "source": [
    "print(df_final.columns)"
   ]
  },
  {
   "cell_type": "code",
   "execution_count": 82,
   "metadata": {},
   "outputs": [
    {
     "name": "stdout",
     "output_type": "stream",
     "text": [
      "{'neg': 0.179, 'neu': 0.821, 'pos': 0.0, 'compound': -0.3412}\n"
     ]
    }
   ],
   "source": [
    "text = \"I have been here for long time and i am not in a good mood.\"\n",
    "analyzer = SentimentIntensityAnalyzer()\n",
    "print(analyzer.polarity_scores(text))\n"
   ]
  },
  {
   "cell_type": "code",
   "execution_count": 90,
   "metadata": {},
   "outputs": [],
   "source": [
    "# vader based sentiment for the plots \n",
    "columns = ['pos', 'neg', 'neu', 'compound']\n",
    "sentiments = []\n",
    "analyzer = SentimentIntensityAnalyzer()\n",
    "for index in range(len(df_final.index)):\n",
    "    rows = []\n",
    "    plot_sentiments = {'pos':[], 'neg':[], 'neu':[], 'compound':[]}\n",
    "    for sent in nltk.sent_tokenize(df_final.iloc[index]['Plot']):\n",
    "        snt = analyzer.polarity_scores(sent)\n",
    "        for keys in snt:\n",
    "            plot_sentiments[keys].append(snt[keys])\n",
    "    for col in columns:\n",
    "        rows.append(sum(plot_sentiments[col])/len(plot_sentiments[col]))\n",
    "    sentiments.append(rows)   "
   ]
  },
  {
   "cell_type": "code",
   "execution_count": 89,
   "metadata": {},
   "outputs": [
    {
     "name": "stdout",
     "output_type": "stream",
     "text": [
      "[[0.11426190476190477, 0.06521428571428571, 0.8205, 0.17051666666666665], [0.047718750000000004, 0.14946875, 0.8028125000000002, -0.2790187499999999], [0.1048, 0.0784, 0.8168, 0.06770000000000001], [0.06799999999999999, 0.11944117647058823, 0.8125, -0.16803235294117644], [0.05464705882352941, 0.10288235294117648, 0.842529411764706, -0.1626588235294118], [0.0, 0.0665, 0.9335, -0.1591], [0.019285714285714288, 0.2895714285714286, 0.6911428571428572, -0.657042857142857]]\n"
     ]
    }
   ],
   "source": [
    "print(sentiments[:5])"
   ]
  },
  {
   "cell_type": "code",
   "execution_count": 91,
   "metadata": {},
   "outputs": [],
   "source": [
    "# Most common adjectives from the plot summary.\n",
    "adj_list= [word for plot in df_final['Plot'] \n",
    "           for sent in nltk.sent_tokenize(plot)\n",
    "         for (word,tag) in nltk.pos_tag(nltk.word_tokenize(sent)) if tag.startswith('JJ')]"
   ]
  },
  {
   "cell_type": "code",
   "execution_count": 92,
   "metadata": {},
   "outputs": [
    {
     "data": {
      "text/plain": [
       "'sick'"
      ]
     },
     "execution_count": 92,
     "metadata": {},
     "output_type": "execute_result"
    }
   ],
   "source": [
    "all_adj = nltk.FreqDist(adj_list)\n",
    "adj_items = all_adj.most_common(1000)\n",
    "adj_features = [adj for (adj,count) in adj_items]\n",
    "adj_features[200]"
   ]
  },
  {
   "cell_type": "code",
   "execution_count": 108,
   "metadata": {},
   "outputs": [],
   "source": [
    "import re\n",
    "def alpha_filter(w):\n",
    "  # pattern to match a word of non-alphabetical characters\n",
    "    pattern = re.compile('^[^a-z]+$')\n",
    "    if (pattern.match(w)):\n",
    "        return True\n",
    "    else:\n",
    "        return False"
   ]
  },
  {
   "cell_type": "code",
   "execution_count": 114,
   "metadata": {},
   "outputs": [],
   "source": [
    "babyNames = pd.read_csv('Baby_Names.csv')"
   ]
  },
  {
   "cell_type": "code",
   "execution_count": 115,
   "metadata": {},
   "outputs": [
    {
     "data": {
      "text/html": [
       "<div>\n",
       "<style scoped>\n",
       "    .dataframe tbody tr th:only-of-type {\n",
       "        vertical-align: middle;\n",
       "    }\n",
       "\n",
       "    .dataframe tbody tr th {\n",
       "        vertical-align: top;\n",
       "    }\n",
       "\n",
       "    .dataframe thead th {\n",
       "        text-align: right;\n",
       "    }\n",
       "</style>\n",
       "<table border=\"1\" class=\"dataframe\">\n",
       "  <thead>\n",
       "    <tr style=\"text-align: right;\">\n",
       "      <th></th>\n",
       "      <th>Unnamed: 0</th>\n",
       "      <th>name</th>\n",
       "      <th>sex</th>\n",
       "      <th>Total.Names</th>\n",
       "    </tr>\n",
       "  </thead>\n",
       "  <tbody>\n",
       "    <tr>\n",
       "      <td>0</td>\n",
       "      <td>1</td>\n",
       "      <td>michael</td>\n",
       "      <td>M</td>\n",
       "      <td>3876829</td>\n",
       "    </tr>\n",
       "    <tr>\n",
       "      <td>1</td>\n",
       "      <td>2</td>\n",
       "      <td>david</td>\n",
       "      <td>M</td>\n",
       "      <td>2864232</td>\n",
       "    </tr>\n",
       "    <tr>\n",
       "      <td>2</td>\n",
       "      <td>3</td>\n",
       "      <td>james</td>\n",
       "      <td>M</td>\n",
       "      <td>2850094</td>\n",
       "    </tr>\n",
       "    <tr>\n",
       "      <td>3</td>\n",
       "      <td>4</td>\n",
       "      <td>john</td>\n",
       "      <td>M</td>\n",
       "      <td>2720483</td>\n",
       "    </tr>\n",
       "    <tr>\n",
       "      <td>4</td>\n",
       "      <td>5</td>\n",
       "      <td>robert</td>\n",
       "      <td>M</td>\n",
       "      <td>2564460</td>\n",
       "    </tr>\n",
       "  </tbody>\n",
       "</table>\n",
       "</div>"
      ],
      "text/plain": [
       "   Unnamed: 0     name sex  Total.Names\n",
       "0           1  michael   M      3876829\n",
       "1           2    david   M      2864232\n",
       "2           3    james   M      2850094\n",
       "3           4     john   M      2720483\n",
       "4           5   robert   M      2564460"
      ]
     },
     "execution_count": 115,
     "metadata": {},
     "output_type": "execute_result"
    }
   ],
   "source": [
    "babyNames.head()"
   ]
  },
  {
   "cell_type": "code",
   "execution_count": 128,
   "metadata": {},
   "outputs": [],
   "source": [
    "names = {}\n",
    "for n in babyNames['name']:\n",
    "    names[n] = 1"
   ]
  },
  {
   "cell_type": "code",
   "execution_count": 123,
   "metadata": {},
   "outputs": [
    {
     "name": "stdout",
     "output_type": "stream",
     "text": [
      "michael\n"
     ]
    }
   ],
   "source": [
    "print( babyNames['name'][0])"
   ]
  },
  {
   "cell_type": "code",
   "execution_count": 129,
   "metadata": {},
   "outputs": [
    {
     "name": "stdout",
     "output_type": "stream",
     "text": [
      "4941\n"
     ]
    }
   ],
   "source": [
    "print(len(names))"
   ]
  },
  {
   "cell_type": "code",
   "execution_count": 131,
   "metadata": {},
   "outputs": [],
   "source": [
    "# Most common words from the plot summary.\n",
    "words= [word.lower() for plot in df_final['Plot'] \n",
    "           for sent in nltk.sent_tokenize(plot)\n",
    "         for word in nltk.word_tokenize(sent) if word.lower() not in names]"
   ]
  },
  {
   "cell_type": "code",
   "execution_count": 133,
   "metadata": {},
   "outputs": [],
   "source": [
    "words = [word for word in words if word not in stopwords]"
   ]
  },
  {
   "cell_type": "code",
   "execution_count": 134,
   "metadata": {},
   "outputs": [
    {
     "data": {
      "text/plain": [
       "'orders'"
      ]
     },
     "execution_count": 134,
     "metadata": {},
     "output_type": "execute_result"
    }
   ],
   "source": [
    "all_words = nltk.FreqDist(words)\n",
    "all_word = all_words.most_common(1000)\n",
    "word_features = [word for (word,count) in all_word]\n",
    "word_features[200]"
   ]
  },
  {
   "cell_type": "code",
   "execution_count": 135,
   "metadata": {},
   "outputs": [],
   "source": [
    "# Most common verbs from the plot summary.\n",
    "verb_list= [ word.lower() for plot in df_final['Plot'] \n",
    "            for sent in nltk.sent_tokenize(plot)\n",
    "            for (word,tag) in nltk.pos_tag(nltk.word_tokenize(sent)) if tag.startswith('VB')]"
   ]
  },
  {
   "cell_type": "code",
   "execution_count": 136,
   "metadata": {},
   "outputs": [],
   "source": [
    "verb_lists = [verb for verb in verb_list if verb not in stopwords]"
   ]
  },
  {
   "cell_type": "code",
   "execution_count": 137,
   "metadata": {},
   "outputs": [
    {
     "data": {
      "text/plain": [
       "'enters'"
      ]
     },
     "execution_count": 137,
     "metadata": {},
     "output_type": "execute_result"
    }
   ],
   "source": [
    "all_verbs = nltk.FreqDist(verb_lists)\n",
    "verb_item = all_verbs.most_common(1000)\n",
    "verb_features = [word for (word,count) in verb_item]\n",
    "verb_features[200]"
   ]
  },
  {
   "cell_type": "code",
   "execution_count": 138,
   "metadata": {},
   "outputs": [],
   "source": [
    "# Most common verbs from the plot summary.\n",
    "adv_list= [ word.lower() for plot in df_final['Plot'] \n",
    "            for sent in nltk.sent_tokenize(plot)\n",
    "            for (word,tag) in nltk.pos_tag(nltk.word_tokenize(sent)) if tag.startswith('RB')]"
   ]
  },
  {
   "cell_type": "code",
   "execution_count": 139,
   "metadata": {},
   "outputs": [],
   "source": [
    "adv_lists = [adv for adv in adv_list if adv not in stopwords]"
   ]
  },
  {
   "cell_type": "code",
   "execution_count": 140,
   "metadata": {},
   "outputs": [
    {
     "data": {
      "text/plain": [
       "'properly'"
      ]
     },
     "execution_count": 140,
     "metadata": {},
     "output_type": "execute_result"
    }
   ],
   "source": [
    "all_advs = nltk.FreqDist(adv_lists)\n",
    "adv_item = all_advs.most_common(1000)\n",
    "adv_features = [word for (word,count) in adv_item]\n",
    "adv_features[200]"
   ]
  },
  {
   "cell_type": "code",
   "execution_count": 142,
   "metadata": {},
   "outputs": [],
   "source": [
    "\n",
    "X_colmun = ['pos', 'neg', 'neu', 'compound']\n",
    "adj_cols = 400 \n",
    "word_cols = 1000 \n",
    "verb_cols = 400\n",
    "adverb_cols = 400\n",
    "# col_names = {'adj_cols_num': 400 , 'word_cols_num': 1000, 'verb_cols_num' : 400, 'adverb_cols_num' :400 }"
   ]
  },
  {
   "cell_type": "code",
   "execution_count": 143,
   "metadata": {},
   "outputs": [],
   "source": [
    "cols = []\n",
    "for i in range(adj_cols):\n",
    "    cols.append(adj_features[i])\n",
    "    \n",
    "for i in range(word_cols):\n",
    "    cols.append(word_features[i])\n",
    "\n",
    "for i in range(verb_cols):\n",
    "    cols.append(verb_features[i])\n",
    "\n",
    "for i in range(adverb_cols):\n",
    "    cols.append(adv_features[i])"
   ]
  },
  {
   "cell_type": "code",
   "execution_count": 155,
   "metadata": {},
   "outputs": [],
   "source": [
    "# sentiments\n",
    "X_test = []\n",
    "for index in range(len(df_final.index)):\n",
    "    row = []\n",
    "    for i in range(len(sentiments[0])):\n",
    "        row.append(sentiments[index][i])\n",
    "    words = [word for sent in nltk.sent_tokenize(text) for word in nltk.word_tokenize(sent) ]\n",
    "    for i in range(len(cols)):\n",
    "        if cols[i].lower() in words:\n",
    "            row.append(1)\n",
    "        else:\n",
    "            row.append(0)\n",
    "    X_test.append(row)\n",
    "        "
   ]
  },
  {
   "cell_type": "code",
   "execution_count": 156,
   "metadata": {},
   "outputs": [
    {
     "name": "stdout",
     "output_type": "stream",
     "text": [
      "20916 2204\n"
     ]
    }
   ],
   "source": [
    "print(len(X_test), len(X_test[0]))"
   ]
  },
  {
   "cell_type": "code",
   "execution_count": 174,
   "metadata": {},
   "outputs": [],
   "source": [
    "Y_test = np.array(range(0,len(X_test)))"
   ]
  },
  {
   "cell_type": "code",
   "execution_count": 172,
   "metadata": {},
   "outputs": [],
   "source": [
    "X_test =  np.array(X_test)"
   ]
  },
  {
   "cell_type": "code",
   "execution_count": 175,
   "metadata": {},
   "outputs": [
    {
     "data": {
      "text/plain": [
       "KNeighborsClassifier(algorithm='auto', leaf_size=30, metric='minkowski',\n",
       "                     metric_params=None, n_jobs=None, n_neighbors=15, p=2,\n",
       "                     weights='uniform')"
      ]
     },
     "execution_count": 175,
     "metadata": {},
     "output_type": "execute_result"
    }
   ],
   "source": [
    "from sklearn.neighbors import KNeighborsClassifier\n",
    "classifier = KNeighborsClassifier(n_neighbors=15)\n",
    "classifier.fit(X_test, Y_test)"
   ]
  },
  {
   "cell_type": "code",
   "execution_count": null,
   "metadata": {},
   "outputs": [],
   "source": [
    "from sklearn.cluster import KMeans\n",
    "clusters=100\n",
    "kmeans = KMeans(n_clusters=clusters, random_state=0)\n",
    "kmeans.fit(X_test)"
   ]
  },
  {
   "cell_type": "code",
   "execution_count": null,
   "metadata": {},
   "outputs": [],
   "source": [
    "print(kmeans.labels_)"
   ]
  },
  {
   "cell_type": "code",
   "execution_count": null,
   "metadata": {},
   "outputs": [],
   "source": [
    "cluster = {new_list: [] for new_list in range(clusters)}\n",
    "for i in range(len(kmeans.labels_)):\n",
    "    cluster[kmeans.labels_[i]].append(df_final.iloc[i]['Title'])"
   ]
  },
  {
   "cell_type": "code",
   "execution_count": null,
   "metadata": {},
   "outputs": [],
   "source": [
    "for key in cluster:\n",
    "    print(key ,\" : len \", len(cluster[key]))"
   ]
  },
  {
   "cell_type": "code",
   "execution_count": null,
   "metadata": {},
   "outputs": [],
   "source": [
    "cluster_genre = {i : {} for i in range(clusters)}\n",
    "print(cluster_genre)"
   ]
  },
  {
   "cell_type": "code",
   "execution_count": null,
   "metadata": {},
   "outputs": [],
   "source": [
    "cluster_genre = {i : {} for i in range(clusters)}\n",
    "all_genre = {}\n",
    "for i in range(len(kmeans.labels_)):\n",
    "    for g in re.split('\\s+|; |, |\\*|\\n|/', df_final.iloc[i]['Genre']):\n",
    "        all_genre[g] = 1\n",
    "        if g in cluster_genre[kmeans.labels_[i]]:\n",
    "            cluster_genre[kmeans.labels_[i]][g] +=1\n",
    "        else:\n",
    "            cluster_genre[kmeans.labels_[i]][g] = 1"
   ]
  },
  {
   "cell_type": "code",
   "execution_count": null,
   "metadata": {},
   "outputs": [],
   "source": [
    "for i in cluster_genre:\n",
    "    for g in cluster_genre[i]:\n",
    "        cluster_genre[i][g] /= (len(cluster[i]))"
   ]
  },
  {
   "cell_type": "code",
   "execution_count": null,
   "metadata": {},
   "outputs": [],
   "source": [
    "cluster_big= {i : {} for i in range(clusters)}\n",
    "for i in cluster_genre:\n",
    "    for g in cluster_genre[i]:\n",
    "        if cluster_genre[i][g] >=0.1:\n",
    "            cluster_big[i][g] = cluster_genre[i][g]"
   ]
  },
  {
   "cell_type": "code",
   "execution_count": null,
   "metadata": {},
   "outputs": [],
   "source": [
    "print(cluster_genre)"
   ]
  },
  {
   "cell_type": "code",
   "execution_count": null,
   "metadata": {},
   "outputs": [],
   "source": [
    "# Printing the json object to see how the data is organized \n",
    "json_formatted_str = json.dumps(cluster_big, indent=2)\n",
    "print(json_formatted_str)"
   ]
  },
  {
   "cell_type": "code",
   "execution_count": null,
   "metadata": {},
   "outputs": [],
   "source": [
    "# creates a pandas dataframe for the result\n",
    "result =  pd.DataFrame(columns=['cluster', 'Title', 'Year', 'Genre'])\n",
    "\n",
    "writer.writerow(fields)\n",
    "for i in range(len(kmeans.labels_)):\n",
    "    rows = []\n",
    "    rows.append(kmeans.labels_[i])\n",
    "    rows.append(df_final.iloc[i]['Title'])\n",
    "    rows.append(df_final.iloc[i]['Release Year'])\n",
    "    rows.append(df_final.iloc[i]['Genre'])\n",
    "    writer.writerow(rows)"
   ]
  },
  {
   "cell_type": "code",
   "execution_count": null,
   "metadata": {},
   "outputs": [],
   "source": [
    "# creates csv with fields: title, author, country, num of pos sent, num of neg sents, num of neu sents\n",
    "\n",
    "filename ='cluter_results_'\n",
    "filename = filename + str(clusters) + '.csv'\n",
    "fields = ['cluster', 'Title', 'Year', 'Genre']\n",
    "counts = ['pos', 'neg', 'neu']\n",
    "\n",
    "with open(filename, mode='w',  encoding=\"utf-8\") as posts_file:\n",
    "    writer = csv.writer(posts_file,lineterminator='\\n')\n",
    "    writer.writerow(fields)\n",
    "    for i in range(len(kmeans.labels_)):\n",
    "        rows = []\n",
    "        rows.append(kmeans.labels_[i])\n",
    "        rows.append(df_final.iloc[i]['Title'])\n",
    "        rows.append(df_final.iloc[i]['Release Year'])\n",
    "        rows.append(df_final.iloc[i]['Genre'])\n",
    "        writer.writerow(rows)"
   ]
  },
  {
   "cell_type": "code",
   "execution_count": null,
   "metadata": {},
   "outputs": [],
   "source": [
    "df_print = df_final[['Release Year', 'Title', 'Origin/Ethnicity','Genre', 'Plot']]"
   ]
  },
  {
   "cell_type": "code",
   "execution_count": null,
   "metadata": {},
   "outputs": [],
   "source": [
    "df_print.head()"
   ]
  },
  {
   "cell_type": "code",
   "execution_count": null,
   "metadata": {},
   "outputs": [],
   "source": []
  }
 ],
 "metadata": {
  "kernelspec": {
   "display_name": "Python 3",
   "language": "python",
   "name": "python3"
  },
  "language_info": {
   "codemirror_mode": {
    "name": "ipython",
    "version": 3
   },
   "file_extension": ".py",
   "mimetype": "text/x-python",
   "name": "python",
   "nbconvert_exporter": "python",
   "pygments_lexer": "ipython3",
   "version": "3.7.4"
  }
 },
 "nbformat": 4,
 "nbformat_minor": 2
}
