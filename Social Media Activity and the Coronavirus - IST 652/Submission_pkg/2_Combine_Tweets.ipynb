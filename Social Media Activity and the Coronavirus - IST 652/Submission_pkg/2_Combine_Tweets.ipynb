{
 "cells": [
  {
   "cell_type": "code",
   "execution_count": null,
   "metadata": {},
   "outputs": [],
   "source": [
    "import json\n",
    "import pandas as pd\n",
    "import numpy as np\n",
    "import os\n",
    "import nltk\n",
    "from nltk.sentiment.vader import SentimentIntensityAnalyzer\n",
    "import numpy as np"
   ]
  },
  {
   "cell_type": "code",
   "execution_count": null,
   "metadata": {},
   "outputs": [],
   "source": [
    "#stitch csv's together for each bin\n",
    "\n",
    "#name the directory folder. Different categories are in different folders.\n",
    "directory = 'travel'\n",
    "\n",
    "li = []\n",
    "\n",
    "#get list of filenames and read in to append to list\n",
    "for csv_file in os.listdir(directory):\n",
    "    mask_df = pd.read_csv(directory+'/'+csv_file, index_col=None, header = 0)\n",
    "    li.append(mask_df)\n",
    "    \n",
    "#convert to df\n",
    "travel_df = pd.concat(li, axis=0, ignore_index=True)\n",
    "\n",
    "#export combined bin to csv\n",
    "travel_df.to_csv(directory+'.csv')\n"
   ]
  },
  {
   "cell_type": "code",
   "execution_count": null,
   "metadata": {},
   "outputs": [],
   "source": [
    "#combine all csv groups to one main df and export\n",
    "mask_df = pd.read_csv('mask.csv')\n",
    "mask_df\n",
    "\n",
    "covid_df = pd.read_csv('covid.csv')\n",
    "covid_df\n",
    "\n",
    "travel_df = pd.read_csv('travel.csv')\n",
    "travel_df\n",
    "\n",
    "\n",
    "\n",
    "\n",
    "#insert label for each bin accordingly\n",
    "mask_df.insert(5, 'bin', 'mask')\n",
    "covid_df.insert(4, 'bin', 'covid')\n",
    "travel_df.insert(5, 'bin','travel')\n",
    "mask_df\n",
    "\n",
    "#Concat all three df's into one\n",
    "frames = [mask_df,covid_df,travel_df]\n",
    "all_df = pd.concat(frames)\n",
    "\n",
    "all_df=all_df.drop(columns=['Unnamed: 0', 'Unnamed: 0.1'])"
   ]
  },
  {
   "cell_type": "code",
   "execution_count": null,
   "metadata": {},
   "outputs": [],
   "source": [
    "#run analysis of all tweets\n",
    "\n",
    "sid = SentimentIntensityAnalyzer()\n",
    "\n",
    "all_df = pd.read_csv('all.csv')\n",
    "all_df = all_df.drop(columns=['Unnamed: 0'])\n",
    "\n",
    "\n",
    "def scorer(x):\n",
    "    scores = sid.polarity_scores(x)\n",
    "    return scores\n",
    "\n",
    "all_df['scores']=all_df.tweets.apply(func=scorer)\n",
    "\n"
   ]
  },
  {
   "cell_type": "code",
   "execution_count": null,
   "metadata": {},
   "outputs": [],
   "source": [
    "#Make each score value it's own column\n",
    "all_df = pd.concat([all_df.drop(['scores'], \n",
    "                                axis=1), all_df['scores'].apply(pd.Series)], \n",
    "                   axis=1)\n"
   ]
  },
  {
   "cell_type": "code",
   "execution_count": null,
   "metadata": {},
   "outputs": [],
   "source": [
    "#output df to csv\n",
    "all_df_scores = all_df\n",
    "\n",
    "all_df_scores.to_csv('all_scores.csv')\n",
    "all_df_scores.size"
   ]
  }
 ],
 "metadata": {
  "kernelspec": {
   "display_name": "Python 3",
   "language": "python",
   "name": "python3"
  },
  "language_info": {
   "codemirror_mode": {
    "name": "ipython",
    "version": 3
   },
   "file_extension": ".py",
   "mimetype": "text/x-python",
   "name": "python",
   "nbconvert_exporter": "python",
   "pygments_lexer": "ipython3",
   "version": "3.7.3"
  }
 },
 "nbformat": 4,
 "nbformat_minor": 2
}
